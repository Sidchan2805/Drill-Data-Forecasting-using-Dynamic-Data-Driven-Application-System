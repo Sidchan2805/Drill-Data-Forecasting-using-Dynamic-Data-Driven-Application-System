{
 "cells": [
  {
   "cell_type": "code",
   "execution_count": 1,
   "metadata": {},
   "outputs": [],
   "source": [
    "import os\n",
    "import sys\n",
    "import pandas as pd\n",
    "import numpy as np\n",
    "import matplotlib.pyplot as plt\n",
    "import re\n",
    "from sklearn.preprocessing import StandardScaler\n"
   ]
  },
  {
   "cell_type": "code",
   "execution_count": 2,
   "metadata": {},
   "outputs": [],
   "source": [
    "cwd=os.getcwd()"
   ]
  },
  {
   "cell_type": "code",
   "execution_count": 3,
   "metadata": {},
   "outputs": [],
   "source": [
    "prepath=os.path.dirname(cwd)"
   ]
  },
  {
   "cell_type": "code",
   "execution_count": 4,
   "metadata": {},
   "outputs": [],
   "source": [
    "foldername_adapted_data=os.path.join(prepath,'New speed testing')"
   ]
  },
  {
   "cell_type": "code",
   "execution_count": 5,
   "metadata": {},
   "outputs": [],
   "source": [
    "x=os.listdir(foldername_adapted_data)"
   ]
  },
  {
   "cell_type": "code",
   "execution_count": null,
   "metadata": {},
   "outputs": [
    {
     "data": {
      "text/plain": [
       "['3-D Data creation pendulum  id1.ipynb',\n",
       " 'PLS.ipynb',\n",
       " 'RPM 120N.xlsx',\n",
       " 'Rpm100.csv',\n",
       " 'Rpm120.csv',\n",
       " 'Rpm140.csv',\n",
       " 'Rpm160.csv',\n",
       " 'Rpm40.csv',\n",
       " 'Rpm60.csv',\n",
       " 'Rpm80.csv',\n",
       " 'Speed simulation code sensor noise 0.2.ipynb',\n",
       " 'Speed simulation code step 1 and 2.ipynb',\n",
       " 'Speed simulation code systematic resampling.ipynb',\n",
       " 'Speed simulation code.ipynb',\n",
       " 'testing file.ipynb']"
      ]
     },
     "execution_count": 6,
     "metadata": {},
     "output_type": "execute_result"
    }
   ],
   "source": [
    "x"
   ]
  },
  {
   "cell_type": "code",
   "execution_count": 7,
   "metadata": {},
   "outputs": [],
   "source": [
    "all_files=os.listdir(foldername_adapted_data)"
   ]
  },
  {
   "cell_type": "code",
   "execution_count": 8,
   "metadata": {},
   "outputs": [
    {
     "data": {
      "text/plain": [
       "['3-D Data creation pendulum  id1.ipynb',\n",
       " 'PLS.ipynb',\n",
       " 'RPM 120N.xlsx',\n",
       " 'Rpm100.csv',\n",
       " 'Rpm120.csv',\n",
       " 'Rpm140.csv',\n",
       " 'Rpm160.csv',\n",
       " 'Rpm40.csv',\n",
       " 'Rpm60.csv',\n",
       " 'Rpm80.csv',\n",
       " 'Speed simulation code sensor noise 0.2.ipynb',\n",
       " 'Speed simulation code step 1 and 2.ipynb',\n",
       " 'Speed simulation code systematic resampling.ipynb',\n",
       " 'Speed simulation code.ipynb',\n",
       " 'testing file.ipynb']"
      ]
     },
     "execution_count": 8,
     "metadata": {},
     "output_type": "execute_result"
    }
   ],
   "source": [
    "all_files"
   ]
  },
  {
   "cell_type": "code",
   "execution_count": 9,
   "metadata": {},
   "outputs": [],
   "source": [
    "training_files=[f for f in all_files if f.endswith('csv')]\n",
    "testing_files=[f for f in all_files if f.endswith('xlsx')]"
   ]
  },
  {
   "cell_type": "code",
   "execution_count": 10,
   "metadata": {},
   "outputs": [
    {
     "data": {
      "text/plain": [
       "['Rpm100.csv',\n",
       " 'Rpm120.csv',\n",
       " 'Rpm140.csv',\n",
       " 'Rpm160.csv',\n",
       " 'Rpm40.csv',\n",
       " 'Rpm60.csv',\n",
       " 'Rpm80.csv']"
      ]
     },
     "execution_count": 10,
     "metadata": {},
     "output_type": "execute_result"
    }
   ],
   "source": [
    "training_files"
   ]
  },
  {
   "cell_type": "code",
   "execution_count": 11,
   "metadata": {},
   "outputs": [],
   "source": [
    "def extract_number(filename):\n",
    "    match = re.search(r'\\d+', filename)\n",
    "    return int(match.group()) if match else 0"
   ]
  },
  {
   "cell_type": "code",
   "execution_count": 12,
   "metadata": {},
   "outputs": [],
   "source": [
    "training_files_sorted=sorted(training_files,key=extract_number)"
   ]
  },
  {
   "cell_type": "code",
   "execution_count": 13,
   "metadata": {},
   "outputs": [
    {
     "data": {
      "text/plain": [
       "['Rpm40.csv',\n",
       " 'Rpm60.csv',\n",
       " 'Rpm80.csv',\n",
       " 'Rpm100.csv',\n",
       " 'Rpm120.csv',\n",
       " 'Rpm140.csv',\n",
       " 'Rpm160.csv']"
      ]
     },
     "execution_count": 13,
     "metadata": {},
     "output_type": "execute_result"
    }
   ],
   "source": [
    "training_files_sorted"
   ]
  },
  {
   "cell_type": "code",
   "execution_count": 14,
   "metadata": {},
   "outputs": [],
   "source": [
    "Data=[pd.read_csv(os.path.join(foldername_adapted_data,f)) for f in training_files_sorted]"
   ]
  },
  {
   "cell_type": "code",
   "execution_count": 15,
   "metadata": {},
   "outputs": [
    {
     "data": {
      "text/html": [
       "<div>\n",
       "<style scoped>\n",
       "    .dataframe tbody tr th:only-of-type {\n",
       "        vertical-align: middle;\n",
       "    }\n",
       "\n",
       "    .dataframe tbody tr th {\n",
       "        vertical-align: top;\n",
       "    }\n",
       "\n",
       "    .dataframe thead th {\n",
       "        text-align: right;\n",
       "    }\n",
       "</style>\n",
       "<table border=\"1\" class=\"dataframe\">\n",
       "  <thead>\n",
       "    <tr style=\"text-align: right;\">\n",
       "      <th></th>\n",
       "      <th>Time</th>\n",
       "      <th>Speed of bottom</th>\n",
       "      <th>Weight on Bit</th>\n",
       "    </tr>\n",
       "  </thead>\n",
       "  <tbody>\n",
       "    <tr>\n",
       "      <th>0</th>\n",
       "      <td>50.00</td>\n",
       "      <td>33.982159</td>\n",
       "      <td>610.937545</td>\n",
       "    </tr>\n",
       "    <tr>\n",
       "      <th>1</th>\n",
       "      <td>50.01</td>\n",
       "      <td>34.200625</td>\n",
       "      <td>607.754439</td>\n",
       "    </tr>\n",
       "    <tr>\n",
       "      <th>2</th>\n",
       "      <td>50.02</td>\n",
       "      <td>34.451168</td>\n",
       "      <td>605.449337</td>\n",
       "    </tr>\n",
       "    <tr>\n",
       "      <th>3</th>\n",
       "      <td>50.03</td>\n",
       "      <td>34.733521</td>\n",
       "      <td>601.213038</td>\n",
       "    </tr>\n",
       "    <tr>\n",
       "      <th>4</th>\n",
       "      <td>50.04</td>\n",
       "      <td>35.048337</td>\n",
       "      <td>595.224917</td>\n",
       "    </tr>\n",
       "    <tr>\n",
       "      <th>...</th>\n",
       "      <td>...</td>\n",
       "      <td>...</td>\n",
       "      <td>...</td>\n",
       "    </tr>\n",
       "    <tr>\n",
       "      <th>4996</th>\n",
       "      <td>99.96</td>\n",
       "      <td>40.990821</td>\n",
       "      <td>497.491072</td>\n",
       "    </tr>\n",
       "    <tr>\n",
       "      <th>4997</th>\n",
       "      <td>99.97</td>\n",
       "      <td>40.302364</td>\n",
       "      <td>506.032470</td>\n",
       "    </tr>\n",
       "    <tr>\n",
       "      <th>4998</th>\n",
       "      <td>99.98</td>\n",
       "      <td>39.640440</td>\n",
       "      <td>513.504358</td>\n",
       "    </tr>\n",
       "    <tr>\n",
       "      <th>4999</th>\n",
       "      <td>99.99</td>\n",
       "      <td>39.008478</td>\n",
       "      <td>521.513060</td>\n",
       "    </tr>\n",
       "    <tr>\n",
       "      <th>5000</th>\n",
       "      <td>100.00</td>\n",
       "      <td>38.408498</td>\n",
       "      <td>529.526318</td>\n",
       "    </tr>\n",
       "  </tbody>\n",
       "</table>\n",
       "<p>5001 rows × 3 columns</p>\n",
       "</div>"
      ],
      "text/plain": [
       "        Time  Speed of bottom  Weight on Bit\n",
       "0      50.00        33.982159     610.937545\n",
       "1      50.01        34.200625     607.754439\n",
       "2      50.02        34.451168     605.449337\n",
       "3      50.03        34.733521     601.213038\n",
       "4      50.04        35.048337     595.224917\n",
       "...      ...              ...            ...\n",
       "4996   99.96        40.990821     497.491072\n",
       "4997   99.97        40.302364     506.032470\n",
       "4998   99.98        39.640440     513.504358\n",
       "4999   99.99        39.008478     521.513060\n",
       "5000  100.00        38.408498     529.526318\n",
       "\n",
       "[5001 rows x 3 columns]"
      ]
     },
     "execution_count": 15,
     "metadata": {},
     "output_type": "execute_result"
    }
   ],
   "source": [
    "Data[0]"
   ]
  },
  {
   "cell_type": "code",
   "execution_count": 16,
   "metadata": {},
   "outputs": [],
   "source": [
    "Data_working=[df.iloc[:,0:3] for df in Data]"
   ]
  },
  {
   "cell_type": "code",
   "execution_count": 17,
   "metadata": {},
   "outputs": [
    {
     "data": {
      "text/html": [
       "<div>\n",
       "<style scoped>\n",
       "    .dataframe tbody tr th:only-of-type {\n",
       "        vertical-align: middle;\n",
       "    }\n",
       "\n",
       "    .dataframe tbody tr th {\n",
       "        vertical-align: top;\n",
       "    }\n",
       "\n",
       "    .dataframe thead th {\n",
       "        text-align: right;\n",
       "    }\n",
       "</style>\n",
       "<table border=\"1\" class=\"dataframe\">\n",
       "  <thead>\n",
       "    <tr style=\"text-align: right;\">\n",
       "      <th></th>\n",
       "      <th>Time</th>\n",
       "      <th>Speed of bottom</th>\n",
       "      <th>Weight on Bit</th>\n",
       "    </tr>\n",
       "  </thead>\n",
       "  <tbody>\n",
       "    <tr>\n",
       "      <th>0</th>\n",
       "      <td>50.00</td>\n",
       "      <td>33.982159</td>\n",
       "      <td>610.937545</td>\n",
       "    </tr>\n",
       "    <tr>\n",
       "      <th>1</th>\n",
       "      <td>50.01</td>\n",
       "      <td>34.200625</td>\n",
       "      <td>607.754439</td>\n",
       "    </tr>\n",
       "    <tr>\n",
       "      <th>2</th>\n",
       "      <td>50.02</td>\n",
       "      <td>34.451168</td>\n",
       "      <td>605.449337</td>\n",
       "    </tr>\n",
       "    <tr>\n",
       "      <th>3</th>\n",
       "      <td>50.03</td>\n",
       "      <td>34.733521</td>\n",
       "      <td>601.213038</td>\n",
       "    </tr>\n",
       "    <tr>\n",
       "      <th>4</th>\n",
       "      <td>50.04</td>\n",
       "      <td>35.048337</td>\n",
       "      <td>595.224917</td>\n",
       "    </tr>\n",
       "    <tr>\n",
       "      <th>...</th>\n",
       "      <td>...</td>\n",
       "      <td>...</td>\n",
       "      <td>...</td>\n",
       "    </tr>\n",
       "    <tr>\n",
       "      <th>4996</th>\n",
       "      <td>99.96</td>\n",
       "      <td>40.990821</td>\n",
       "      <td>497.491072</td>\n",
       "    </tr>\n",
       "    <tr>\n",
       "      <th>4997</th>\n",
       "      <td>99.97</td>\n",
       "      <td>40.302364</td>\n",
       "      <td>506.032470</td>\n",
       "    </tr>\n",
       "    <tr>\n",
       "      <th>4998</th>\n",
       "      <td>99.98</td>\n",
       "      <td>39.640440</td>\n",
       "      <td>513.504358</td>\n",
       "    </tr>\n",
       "    <tr>\n",
       "      <th>4999</th>\n",
       "      <td>99.99</td>\n",
       "      <td>39.008478</td>\n",
       "      <td>521.513060</td>\n",
       "    </tr>\n",
       "    <tr>\n",
       "      <th>5000</th>\n",
       "      <td>100.00</td>\n",
       "      <td>38.408498</td>\n",
       "      <td>529.526318</td>\n",
       "    </tr>\n",
       "  </tbody>\n",
       "</table>\n",
       "<p>5001 rows × 3 columns</p>\n",
       "</div>"
      ],
      "text/plain": [
       "        Time  Speed of bottom  Weight on Bit\n",
       "0      50.00        33.982159     610.937545\n",
       "1      50.01        34.200625     607.754439\n",
       "2      50.02        34.451168     605.449337\n",
       "3      50.03        34.733521     601.213038\n",
       "4      50.04        35.048337     595.224917\n",
       "...      ...              ...            ...\n",
       "4996   99.96        40.990821     497.491072\n",
       "4997   99.97        40.302364     506.032470\n",
       "4998   99.98        39.640440     513.504358\n",
       "4999   99.99        39.008478     521.513060\n",
       "5000  100.00        38.408498     529.526318\n",
       "\n",
       "[5001 rows x 3 columns]"
      ]
     },
     "execution_count": 17,
     "metadata": {},
     "output_type": "execute_result"
    }
   ],
   "source": [
    "Data_working[0]"
   ]
  },
  {
   "cell_type": "code",
   "execution_count": 18,
   "metadata": {},
   "outputs": [],
   "source": [
    "Data_working=[df.T for df in Data_working]"
   ]
  },
  {
   "cell_type": "code",
   "execution_count": 19,
   "metadata": {},
   "outputs": [],
   "source": [
    "df_speed=pd.concat([df.iloc[[1]] for df in Data_working], ignore_index=True)\n",
    "df_tindex=pd.concat([df.iloc[[0]] for df in Data_working], ignore_index=True)\n",
    "df_weight=pd.concat([df.iloc[[2],:] for df in Data_working], ignore_index=True)"
   ]
  },
  {
   "cell_type": "code",
   "execution_count": 20,
   "metadata": {},
   "outputs": [
    {
     "data": {
      "text/html": [
       "<div>\n",
       "<style scoped>\n",
       "    .dataframe tbody tr th:only-of-type {\n",
       "        vertical-align: middle;\n",
       "    }\n",
       "\n",
       "    .dataframe tbody tr th {\n",
       "        vertical-align: top;\n",
       "    }\n",
       "\n",
       "    .dataframe thead th {\n",
       "        text-align: right;\n",
       "    }\n",
       "</style>\n",
       "<table border=\"1\" class=\"dataframe\">\n",
       "  <thead>\n",
       "    <tr style=\"text-align: right;\">\n",
       "      <th></th>\n",
       "      <th>0</th>\n",
       "      <th>1</th>\n",
       "      <th>2</th>\n",
       "      <th>3</th>\n",
       "      <th>4</th>\n",
       "      <th>5</th>\n",
       "      <th>6</th>\n",
       "      <th>7</th>\n",
       "      <th>8</th>\n",
       "      <th>9</th>\n",
       "      <th>...</th>\n",
       "      <th>4991</th>\n",
       "      <th>4992</th>\n",
       "      <th>4993</th>\n",
       "      <th>4994</th>\n",
       "      <th>4995</th>\n",
       "      <th>4996</th>\n",
       "      <th>4997</th>\n",
       "      <th>4998</th>\n",
       "      <th>4999</th>\n",
       "      <th>5000</th>\n",
       "    </tr>\n",
       "  </thead>\n",
       "  <tbody>\n",
       "    <tr>\n",
       "      <th>0</th>\n",
       "      <td>33.982159</td>\n",
       "      <td>34.200625</td>\n",
       "      <td>34.451168</td>\n",
       "      <td>34.733521</td>\n",
       "      <td>35.048337</td>\n",
       "      <td>35.397973</td>\n",
       "      <td>35.780499</td>\n",
       "      <td>36.197505</td>\n",
       "      <td>36.649822</td>\n",
       "      <td>37.136711</td>\n",
       "      <td>...</td>\n",
       "      <td>44.658204</td>\n",
       "      <td>43.917719</td>\n",
       "      <td>43.172616</td>\n",
       "      <td>42.430880</td>\n",
       "      <td>41.702013</td>\n",
       "      <td>40.990821</td>\n",
       "      <td>40.302364</td>\n",
       "      <td>39.640440</td>\n",
       "      <td>39.008478</td>\n",
       "      <td>38.408498</td>\n",
       "    </tr>\n",
       "    <tr>\n",
       "      <th>1</th>\n",
       "      <td>51.705216</td>\n",
       "      <td>53.150475</td>\n",
       "      <td>54.776062</td>\n",
       "      <td>56.589190</td>\n",
       "      <td>58.589987</td>\n",
       "      <td>60.773974</td>\n",
       "      <td>63.126617</td>\n",
       "      <td>65.624536</td>\n",
       "      <td>68.226588</td>\n",
       "      <td>70.880778</td>\n",
       "      <td>...</td>\n",
       "      <td>45.415782</td>\n",
       "      <td>45.607921</td>\n",
       "      <td>45.914944</td>\n",
       "      <td>46.338071</td>\n",
       "      <td>46.884484</td>\n",
       "      <td>47.558470</td>\n",
       "      <td>48.369506</td>\n",
       "      <td>49.324145</td>\n",
       "      <td>50.432819</td>\n",
       "      <td>51.705558</td>\n",
       "    </tr>\n",
       "    <tr>\n",
       "      <th>2</th>\n",
       "      <td>108.350680</td>\n",
       "      <td>112.808266</td>\n",
       "      <td>116.348315</td>\n",
       "      <td>118.667929</td>\n",
       "      <td>119.495754</td>\n",
       "      <td>118.626437</td>\n",
       "      <td>115.942680</td>\n",
       "      <td>111.454070</td>\n",
       "      <td>105.308410</td>\n",
       "      <td>97.810280</td>\n",
       "      <td>...</td>\n",
       "      <td>119.283335</td>\n",
       "      <td>119.282488</td>\n",
       "      <td>117.513905</td>\n",
       "      <td>113.918332</td>\n",
       "      <td>108.573322</td>\n",
       "      <td>101.703335</td>\n",
       "      <td>93.693598</td>\n",
       "      <td>85.093286</td>\n",
       "      <td>76.594981</td>\n",
       "      <td>68.960116</td>\n",
       "    </tr>\n",
       "    <tr>\n",
       "      <th>3</th>\n",
       "      <td>128.146363</td>\n",
       "      <td>117.048326</td>\n",
       "      <td>104.686813</td>\n",
       "      <td>91.929378</td>\n",
       "      <td>79.861253</td>\n",
       "      <td>69.715432</td>\n",
       "      <td>62.528670</td>\n",
       "      <td>58.572837</td>\n",
       "      <td>57.245593</td>\n",
       "      <td>57.686088</td>\n",
       "      <td>...</td>\n",
       "      <td>61.699794</td>\n",
       "      <td>64.842950</td>\n",
       "      <td>68.690361</td>\n",
       "      <td>73.271097</td>\n",
       "      <td>78.626047</td>\n",
       "      <td>84.773602</td>\n",
       "      <td>91.692750</td>\n",
       "      <td>99.300762</td>\n",
       "      <td>107.435496</td>\n",
       "      <td>115.849238</td>\n",
       "    </tr>\n",
       "    <tr>\n",
       "      <th>4</th>\n",
       "      <td>83.556611</td>\n",
       "      <td>78.730611</td>\n",
       "      <td>76.917581</td>\n",
       "      <td>77.842791</td>\n",
       "      <td>81.074433</td>\n",
       "      <td>86.214226</td>\n",
       "      <td>92.950965</td>\n",
       "      <td>101.005700</td>\n",
       "      <td>110.086587</td>\n",
       "      <td>119.838588</td>\n",
       "      <td>...</td>\n",
       "      <td>163.914541</td>\n",
       "      <td>160.931007</td>\n",
       "      <td>155.087876</td>\n",
       "      <td>146.729568</td>\n",
       "      <td>136.400665</td>\n",
       "      <td>124.816876</td>\n",
       "      <td>112.815445</td>\n",
       "      <td>101.316808</td>\n",
       "      <td>91.276509</td>\n",
       "      <td>83.556378</td>\n",
       "    </tr>\n",
       "    <tr>\n",
       "      <th>5</th>\n",
       "      <td>125.518922</td>\n",
       "      <td>133.573073</td>\n",
       "      <td>142.162345</td>\n",
       "      <td>150.625272</td>\n",
       "      <td>158.286405</td>\n",
       "      <td>164.494614</td>\n",
       "      <td>168.689579</td>\n",
       "      <td>170.457894</td>\n",
       "      <td>169.596576</td>\n",
       "      <td>166.140721</td>\n",
       "      <td>...</td>\n",
       "      <td>114.020867</td>\n",
       "      <td>119.508069</td>\n",
       "      <td>126.613398</td>\n",
       "      <td>134.782399</td>\n",
       "      <td>143.395043</td>\n",
       "      <td>151.784794</td>\n",
       "      <td>159.275973</td>\n",
       "      <td>165.227952</td>\n",
       "      <td>169.097952</td>\n",
       "      <td>170.497801</td>\n",
       "    </tr>\n",
       "    <tr>\n",
       "      <th>6</th>\n",
       "      <td>180.945390</td>\n",
       "      <td>180.808293</td>\n",
       "      <td>178.335905</td>\n",
       "      <td>173.800587</td>\n",
       "      <td>167.709766</td>\n",
       "      <td>160.750919</td>\n",
       "      <td>153.707415</td>\n",
       "      <td>147.376245</td>\n",
       "      <td>142.470162</td>\n",
       "      <td>139.543379</td>\n",
       "      <td>...</td>\n",
       "      <td>170.909766</td>\n",
       "      <td>164.291376</td>\n",
       "      <td>157.189571</td>\n",
       "      <td>150.405115</td>\n",
       "      <td>144.705082</td>\n",
       "      <td>140.733288</td>\n",
       "      <td>138.930769</td>\n",
       "      <td>139.482415</td>\n",
       "      <td>142.305247</td>\n",
       "      <td>147.059525</td>\n",
       "    </tr>\n",
       "  </tbody>\n",
       "</table>\n",
       "<p>7 rows × 5001 columns</p>\n",
       "</div>"
      ],
      "text/plain": [
       "         0           1           2           3           4           5     \\\n",
       "0   33.982159   34.200625   34.451168   34.733521   35.048337   35.397973   \n",
       "1   51.705216   53.150475   54.776062   56.589190   58.589987   60.773974   \n",
       "2  108.350680  112.808266  116.348315  118.667929  119.495754  118.626437   \n",
       "3  128.146363  117.048326  104.686813   91.929378   79.861253   69.715432   \n",
       "4   83.556611   78.730611   76.917581   77.842791   81.074433   86.214226   \n",
       "5  125.518922  133.573073  142.162345  150.625272  158.286405  164.494614   \n",
       "6  180.945390  180.808293  178.335905  173.800587  167.709766  160.750919   \n",
       "\n",
       "         6           7           8           9     ...        4991  \\\n",
       "0   35.780499   36.197505   36.649822   37.136711  ...   44.658204   \n",
       "1   63.126617   65.624536   68.226588   70.880778  ...   45.415782   \n",
       "2  115.942680  111.454070  105.308410   97.810280  ...  119.283335   \n",
       "3   62.528670   58.572837   57.245593   57.686088  ...   61.699794   \n",
       "4   92.950965  101.005700  110.086587  119.838588  ...  163.914541   \n",
       "5  168.689579  170.457894  169.596576  166.140721  ...  114.020867   \n",
       "6  153.707415  147.376245  142.470162  139.543379  ...  170.909766   \n",
       "\n",
       "         4992        4993        4994        4995        4996        4997  \\\n",
       "0   43.917719   43.172616   42.430880   41.702013   40.990821   40.302364   \n",
       "1   45.607921   45.914944   46.338071   46.884484   47.558470   48.369506   \n",
       "2  119.282488  117.513905  113.918332  108.573322  101.703335   93.693598   \n",
       "3   64.842950   68.690361   73.271097   78.626047   84.773602   91.692750   \n",
       "4  160.931007  155.087876  146.729568  136.400665  124.816876  112.815445   \n",
       "5  119.508069  126.613398  134.782399  143.395043  151.784794  159.275973   \n",
       "6  164.291376  157.189571  150.405115  144.705082  140.733288  138.930769   \n",
       "\n",
       "         4998        4999        5000  \n",
       "0   39.640440   39.008478   38.408498  \n",
       "1   49.324145   50.432819   51.705558  \n",
       "2   85.093286   76.594981   68.960116  \n",
       "3   99.300762  107.435496  115.849238  \n",
       "4  101.316808   91.276509   83.556378  \n",
       "5  165.227952  169.097952  170.497801  \n",
       "6  139.482415  142.305247  147.059525  \n",
       "\n",
       "[7 rows x 5001 columns]"
      ]
     },
     "execution_count": 20,
     "metadata": {},
     "output_type": "execute_result"
    }
   ],
   "source": [
    "df_speed"
   ]
  },
  {
   "cell_type": "code",
   "execution_count": 21,
   "metadata": {},
   "outputs": [],
   "source": [
    "df_speed_array=df_speed.to_numpy()\n",
    "df_weight_array=df_weight.to_numpy()\n",
    "df_tindex_array=df_tindex.to_numpy()\n",
    "array_collection=[]\n",
    "array_collection.append(df_speed_array)\n",
    "array_collection.append(df_weight_array)\n",
    "array_collection.append(df_tindex_array)"
   ]
  },
  {
   "cell_type": "code",
   "execution_count": 22,
   "metadata": {},
   "outputs": [],
   "source": [
    "array_3d_testing=np.stack(array_collection,axis=0)"
   ]
  },
  {
   "cell_type": "code",
   "execution_count": 23,
   "metadata": {},
   "outputs": [
    {
     "data": {
      "text/plain": [
       "(3, 7, 5001)"
      ]
     },
     "execution_count": 23,
     "metadata": {},
     "output_type": "execute_result"
    }
   ],
   "source": [
    "array_3d_testing.shape"
   ]
  },
  {
   "cell_type": "code",
   "execution_count": 24,
   "metadata": {},
   "outputs": [
    {
     "data": {
      "text/plain": [
       "array([[ 33.98215854,  34.2006252 ,  34.45116752, ...,  39.64043994,\n",
       "         39.00847795,  38.40849847],\n",
       "       [ 51.70521574,  53.15047497,  54.7760623 , ...,  49.32414474,\n",
       "         50.43281903,  51.70555838],\n",
       "       [108.3506802 , 112.8082656 , 116.3483146 , ...,  85.09328616,\n",
       "         76.59498072,  68.96011582],\n",
       "       ...,\n",
       "       [ 83.55661057,  78.73061105,  76.91758141, ..., 101.3168085 ,\n",
       "         91.27650929,  83.55637791],\n",
       "       [125.5189216 , 133.5730732 , 142.1623449 , ..., 165.2279516 ,\n",
       "        169.0979521 , 170.4978014 ],\n",
       "       [180.94539   , 180.8082929 , 178.3359047 , ..., 139.4824153 ,\n",
       "        142.3052473 , 147.0595246 ]])"
      ]
     },
     "execution_count": 24,
     "metadata": {},
     "output_type": "execute_result"
    }
   ],
   "source": [
    "array_3d_testing[0,:,:]"
   ]
  },
  {
   "cell_type": "code",
   "execution_count": 25,
   "metadata": {},
   "outputs": [
    {
     "data": {
      "text/plain": [
       "array([[ 40],\n",
       "       [ 60],\n",
       "       [ 80],\n",
       "       [100],\n",
       "       [120],\n",
       "       [140],\n",
       "       [160]])"
      ]
     },
     "execution_count": 25,
     "metadata": {},
     "output_type": "execute_result"
    }
   ],
   "source": [
    "model_x=[extract_number(filename) for filename in training_files_sorted]\n",
    "model_x_arr=np.array(model_x)\n",
    "model_x_arr=model_x_arr.reshape(-1,1)\n",
    "model_x_arr"
   ]
  },
  {
   "cell_type": "markdown",
   "metadata": {},
   "source": [
    "Modelling input parameters"
   ]
  },
  {
   "cell_type": "code",
   "execution_count": 26,
   "metadata": {},
   "outputs": [],
   "source": [
    "scaler=StandardScaler()\n",
    "model_x_arr_std=scaler.fit_transform(model_x_arr)"
   ]
  },
  {
   "cell_type": "code",
   "execution_count": null,
   "metadata": {},
   "outputs": [
    {
     "data": {
      "text/plain": [
       "array([[-1.5],\n",
       "       [-1. ],\n",
       "       [-0.5],\n",
       "       [ 0. ],\n",
       "       [ 0.5],\n",
       "       [ 1. ],\n",
       "       [ 1.5]])"
      ]
     },
     "execution_count": 27,
     "metadata": {},
     "output_type": "execute_result"
    }
   ],
   "source": [
    "model_x_arr_std"
   ]
  },
  {
   "cell_type": "code",
   "execution_count": 28,
   "metadata": {},
   "outputs": [],
   "source": [
    "testID=4"
   ]
  },
  {
   "cell_type": "code",
   "execution_count": 29,
   "metadata": {},
   "outputs": [],
   "source": [
    "model_x_test=model_x_arr_std[testID]\n",
    "model_y_test=array_3d_testing[0:2,testID,:]\n",
    "model_x_train=np.delete(model_x_arr_std,testID)\n",
    "intermediate_slice=np.delete(array_3d_testing,testID,axis=1)\n",
    "model_y_train=intermediate_slice[0:2,:,:]\n",
    "model_tindex=array_3d_testing[2,0,:]\n"
   ]
  },
  {
   "cell_type": "code",
   "execution_count": 30,
   "metadata": {},
   "outputs": [],
   "source": [
    "model_x_train=model_x_train.reshape(-1,1)\n",
    "model_x_test=model_x_test.reshape(-1,1)"
   ]
  },
  {
   "cell_type": "code",
   "execution_count": 31,
   "metadata": {},
   "outputs": [],
   "source": [
    "model_y_test=model_y_test.reshape(2,1,5001)"
   ]
  },
  {
   "cell_type": "code",
   "execution_count": 32,
   "metadata": {},
   "outputs": [
    {
     "data": {
      "text/plain": [
       "(6, 1)"
      ]
     },
     "execution_count": 32,
     "metadata": {},
     "output_type": "execute_result"
    }
   ],
   "source": [
    "model_x_train.shape"
   ]
  },
  {
   "cell_type": "code",
   "execution_count": 33,
   "metadata": {},
   "outputs": [
    {
     "data": {
      "text/plain": [
       "(1, 1)"
      ]
     },
     "execution_count": 33,
     "metadata": {},
     "output_type": "execute_result"
    }
   ],
   "source": [
    "model_x_test.shape"
   ]
  },
  {
   "cell_type": "code",
   "execution_count": 34,
   "metadata": {},
   "outputs": [
    {
     "data": {
      "text/plain": [
       "(2, 1, 5001)"
      ]
     },
     "execution_count": 34,
     "metadata": {},
     "output_type": "execute_result"
    }
   ],
   "source": [
    "model_y_test.shape"
   ]
  },
  {
   "cell_type": "code",
   "execution_count": 35,
   "metadata": {},
   "outputs": [
    {
     "data": {
      "text/plain": [
       "array([[[ 83.55661057,  78.73061105,  76.91758141, ..., 101.3168085 ,\n",
       "          91.27650929,  83.55637791]],\n",
       "\n",
       "       [[609.1064813 , 598.0192561 , 584.337209  , ..., 617.2597291 ,\n",
       "         617.1259653 , 607.5561696 ]]])"
      ]
     },
     "execution_count": 35,
     "metadata": {},
     "output_type": "execute_result"
    }
   ],
   "source": [
    "model_y_test"
   ]
  },
  {
   "cell_type": "code",
   "execution_count": 36,
   "metadata": {},
   "outputs": [
    {
     "data": {
      "text/plain": [
       "array([[[ 83.55661057,  78.73061105,  76.91758141, ..., 101.3168085 ,\n",
       "          91.27650929,  83.55637791]],\n",
       "\n",
       "       [[609.1064813 , 598.0192561 , 584.337209  , ..., 617.2597291 ,\n",
       "         617.1259653 , 607.5561696 ]]])"
      ]
     },
     "execution_count": 36,
     "metadata": {},
     "output_type": "execute_result"
    }
   ],
   "source": [
    "model_y_test"
   ]
  },
  {
   "cell_type": "code",
   "execution_count": 37,
   "metadata": {},
   "outputs": [
    {
     "data": {
      "text/plain": [
       "(2, 6, 5001)"
      ]
     },
     "execution_count": 37,
     "metadata": {},
     "output_type": "execute_result"
    }
   ],
   "source": [
    "model_y_train.shape"
   ]
  },
  {
   "cell_type": "markdown",
   "metadata": {},
   "source": [
    "HOSVD Part"
   ]
  },
  {
   "cell_type": "code",
   "execution_count": 38,
   "metadata": {},
   "outputs": [],
   "source": [
    "import numpy as np\n",
    "\n",
    "def unfold(tensor, mode):\n",
    "    return np.moveaxis(tensor, mode, 0).reshape(tensor.shape[mode], -1)"
   ]
  },
  {
   "cell_type": "code",
   "execution_count": 39,
   "metadata": {},
   "outputs": [],
   "source": [
    "def refold(matrix, mode, shape):\n",
    "    new_shape = list(shape)\n",
    "    order = [mode] + [i for i in range(len(shape)) if i != mode]\n",
    "    reverse_order = np.argsort(order)\n",
    "    new_shape[mode] = -1\n",
    "    return np.moveaxis(matrix.reshape(new_shape), 0, mode).transpose(reverse_order)"
   ]
  },
  {
   "cell_type": "code",
   "execution_count": 40,
   "metadata": {},
   "outputs": [],
   "source": [
    "def tensor_product(tensor, matrix, mode):\n",
    "    shape = tensor.shape\n",
    "    unfolded = unfold(tensor, mode)\n",
    "    result_matrix = np.dot(matrix, unfolded)\n",
    "    return refold(result_matrix, mode, shape)"
   ]
  },
  {
   "cell_type": "code",
   "execution_count": 41,
   "metadata": {},
   "outputs": [
    {
     "name": "stdout",
     "output_type": "stream",
     "text": [
      "Ranks determined based on threshold: [2, 6, 12]\n"
     ]
    }
   ],
   "source": [
    "import numpy as np\n",
    "import tensorly as tl\n",
    "from tensorly.decomposition import tucker\n",
    "\n",
    "def determine_ranks_via_threshold(tensor, threshold=None):\n",
    "    \"\"\"\n",
    "    Determine ranks for Tucker decomposition by comparing singular values to a threshold.\n",
    "    \n",
    "    Parameters:\n",
    "    - tensor: Input tensor.\n",
    "    - threshold: Threshold for singular values. If None, uses numpy's machine epsilon.\n",
    "    \n",
    "    Returns:\n",
    "    - ranks: A list of integers representing the rank for each mode based on the threshold.\n",
    "    \"\"\"\n",
    "    if threshold is None:\n",
    "        threshold = np.finfo(tensor.dtype).eps  # Default epsilon, similar to MATLAB's eps\n",
    "    \n",
    "    ranks = []\n",
    "    \n",
    "    # Compute SVD for each mode and determine ranks based on the threshold\n",
    "    for mode in range(tl.ndim(tensor)):\n",
    "        unfolded = tl.unfold(tensor, mode)\n",
    "        _, s, _ = np.linalg.svd(unfolded, full_matrices=False)\n",
    "        \n",
    "        # Find the rank by counting how many singular values are greater than the threshold\n",
    "        effective_rank = np.sum(s > threshold)\n",
    "        ranks.append(effective_rank)\n",
    "    \n",
    "    return ranks\n",
    "\n",
    "\n",
    "# Determine ranks automatically without specifying a threshold\n",
    "ranks = determine_ranks_via_threshold(model_y_train)\n",
    "print(\"Ranks determined based on threshold:\", ranks)\n",
    "\n",
    "# Perform Tucker decomposition with the determined ranks\n",
    "core, factors = tucker(model_y_train, rank=ranks)\n",
    "\n"
   ]
  },
  {
   "cell_type": "code",
   "execution_count": 42,
   "metadata": {},
   "outputs": [
    {
     "data": {
      "text/plain": [
       "(2, 6, 12)"
      ]
     },
     "execution_count": 42,
     "metadata": {},
     "output_type": "execute_result"
    }
   ],
   "source": [
    "core.shape"
   ]
  },
  {
   "cell_type": "code",
   "execution_count": 43,
   "metadata": {},
   "outputs": [
    {
     "data": {
      "text/plain": [
       "(2, 2)"
      ]
     },
     "execution_count": 43,
     "metadata": {},
     "output_type": "execute_result"
    }
   ],
   "source": [
    "factors[0].shape"
   ]
  },
  {
   "cell_type": "code",
   "execution_count": 44,
   "metadata": {},
   "outputs": [
    {
     "data": {
      "text/plain": [
       "(6, 6)"
      ]
     },
     "execution_count": 44,
     "metadata": {},
     "output_type": "execute_result"
    }
   ],
   "source": [
    "factors[1].shape"
   ]
  },
  {
   "cell_type": "code",
   "execution_count": 45,
   "metadata": {},
   "outputs": [
    {
     "data": {
      "text/plain": [
       "(5001, 12)"
      ]
     },
     "execution_count": 45,
     "metadata": {},
     "output_type": "execute_result"
    }
   ],
   "source": [
    "factors[2].shape"
   ]
  },
  {
   "cell_type": "code",
   "execution_count": 46,
   "metadata": {},
   "outputs": [],
   "source": [
    "import numpy as np\n",
    "import tensorly as tl\n",
    "from tensorly.tenalg import mode_dot\n",
    "\n",
    "def singular_values_per_mode(tensor):\n",
    "    \"\"\"\n",
    "    Calculate the singular values for each mode of a higher-dimensional tensor.\n",
    "\n",
    "    Parameters:\n",
    "    - tensor: The input tensor as a NumPy array or any array-like structure compatible with Tensorly.\n",
    "\n",
    "    Returns:\n",
    "    - A list of arrays, where each array contains the singular values for one mode of the tensor.\n",
    "    \"\"\"\n",
    "    num_modes = tl.ndim(tensor)\n",
    "    singular_values_list = []\n",
    "    \n",
    "    for mode in range(num_modes):\n",
    "        # Unfold the tensor along the current mode\n",
    "        unfolded = tl.unfold(tensor, mode)\n",
    "        \n",
    "        # Perform SVD on the unfolded matrix to obtain singular values\n",
    "        _, singular_values, _ = np.linalg.svd(unfolded, full_matrices=False)\n",
    "        \n",
    "        # Append the singular values to the list\n",
    "        singular_values_list.append(singular_values)\n",
    "    \n",
    "    return singular_values_list\n",
    "\n",
    "sv = singular_values_per_mode(model_y_train)\n",
    "\n"
   ]
  },
  {
   "cell_type": "code",
   "execution_count": 47,
   "metadata": {},
   "outputs": [],
   "source": [
    "sv1=np.array(sv[0]/sum(sv[0]))\n",
    "sv2=np.array(sv[1]/sum(sv[1]))\n",
    "sv3=np.array(sv[2]/sum(sv[2]))"
   ]
  },
  {
   "cell_type": "code",
   "execution_count": 48,
   "metadata": {},
   "outputs": [],
   "source": [
    "perc_info=0.95"
   ]
  },
  {
   "cell_type": "code",
   "execution_count": 49,
   "metadata": {},
   "outputs": [],
   "source": [
    "temp = np.cumsum(sv1) < perc_info\n",
    "nFEigen = np.sum(temp) + 1\n",
    "\n",
    "# Calculate for sv2\n",
    "temp = np.cumsum(sv2) < perc_info\n",
    "a = np.sum(temp) + 1\n",
    "\n",
    "# Calculate for sv3\n",
    "temp = np.cumsum(sv3) < perc_info\n",
    "ntindex = np.sum(temp) + 1"
   ]
  },
  {
   "cell_type": "code",
   "execution_count": 50,
   "metadata": {},
   "outputs": [
    {
     "data": {
      "text/plain": [
       "5"
      ]
     },
     "execution_count": 50,
     "metadata": {},
     "output_type": "execute_result"
    }
   ],
   "source": [
    "a"
   ]
  },
  {
   "cell_type": "code",
   "execution_count": 51,
   "metadata": {},
   "outputs": [
    {
     "data": {
      "text/plain": [
       "6"
      ]
     },
     "execution_count": 51,
     "metadata": {},
     "output_type": "execute_result"
    }
   ],
   "source": [
    "ntindex"
   ]
  },
  {
   "cell_type": "code",
   "execution_count": 52,
   "metadata": {},
   "outputs": [],
   "source": [
    "new_s=core[:,0:a,:]"
   ]
  },
  {
   "cell_type": "code",
   "execution_count": 53,
   "metadata": {},
   "outputs": [
    {
     "data": {
      "text/plain": [
       "(2, 5, 12)"
      ]
     },
     "execution_count": 53,
     "metadata": {},
     "output_type": "execute_result"
    }
   ],
   "source": [
    "new_s.shape"
   ]
  },
  {
   "cell_type": "code",
   "execution_count": 54,
   "metadata": {},
   "outputs": [
    {
     "data": {
      "text/plain": [
       "3"
      ]
     },
     "execution_count": 54,
     "metadata": {},
     "output_type": "execute_result"
    }
   ],
   "source": [
    "len(factors)"
   ]
  },
  {
   "cell_type": "code",
   "execution_count": 55,
   "metadata": {},
   "outputs": [
    {
     "data": {
      "text/plain": [
       "(2, 2)"
      ]
     },
     "execution_count": 55,
     "metadata": {},
     "output_type": "execute_result"
    }
   ],
   "source": [
    "factors[0].shape"
   ]
  },
  {
   "cell_type": "code",
   "execution_count": 56,
   "metadata": {},
   "outputs": [
    {
     "data": {
      "text/plain": [
       "(5001, 12)"
      ]
     },
     "execution_count": 56,
     "metadata": {},
     "output_type": "execute_result"
    }
   ],
   "source": [
    "factors[2].shape"
   ]
  },
  {
   "cell_type": "code",
   "execution_count": 57,
   "metadata": {},
   "outputs": [],
   "source": [
    "temp_u=[]\n",
    "temp_u.append(factors[0])\n",
    "temp_u.append(factors[2])"
   ]
  },
  {
   "cell_type": "code",
   "execution_count": 58,
   "metadata": {},
   "outputs": [],
   "source": [
    "new_u=mode_dot(new_s,temp_u[0],mode=0)\n",
    "new_u=mode_dot(new_u,temp_u[1],mode=2)"
   ]
  },
  {
   "cell_type": "code",
   "execution_count": 59,
   "metadata": {},
   "outputs": [
    {
     "data": {
      "text/plain": [
       "(2, 5, 5001)"
      ]
     },
     "execution_count": 59,
     "metadata": {},
     "output_type": "execute_result"
    }
   ],
   "source": [
    "new_u.shape"
   ]
  },
  {
   "cell_type": "code",
   "execution_count": 60,
   "metadata": {},
   "outputs": [],
   "source": [
    "model_u=new_u"
   ]
  },
  {
   "cell_type": "code",
   "execution_count": 61,
   "metadata": {},
   "outputs": [],
   "source": [
    "reduced_param=np.dot(tl.unfold(model_y_train,1),np.linalg.pinv(tl.unfold(model_u,1)))"
   ]
  },
  {
   "cell_type": "code",
   "execution_count": 62,
   "metadata": {},
   "outputs": [
    {
     "data": {
      "text/plain": [
       "(6, 5)"
      ]
     },
     "execution_count": 62,
     "metadata": {},
     "output_type": "execute_result"
    }
   ],
   "source": [
    "reduced_param.shape"
   ]
  },
  {
   "cell_type": "code",
   "execution_count": 63,
   "metadata": {},
   "outputs": [
    {
     "data": {
      "text/plain": [
       "array([[ 0.39876971, -0.52021848, -0.11008873,  0.32927739, -0.24657822],\n",
       "       [ 0.40549676, -0.34634469, -0.10375805,  0.31134194, -0.10549381],\n",
       "       [ 0.41180526, -0.20687948, -0.29902747, -0.53321221,  0.64165221],\n",
       "       [ 0.41561702,  0.01237648,  0.87384127, -0.24488142, -0.05934793],\n",
       "       [ 0.40825254,  0.4262728 , -0.35131571, -0.39076448, -0.61277232],\n",
       "       [ 0.40934569,  0.62028807, -0.02600023,  0.54558551,  0.37059491]])"
      ]
     },
     "execution_count": 63,
     "metadata": {},
     "output_type": "execute_result"
    }
   ],
   "source": [
    "reduced_param"
   ]
  },
  {
   "cell_type": "markdown",
   "metadata": {},
   "source": [
    "Gaussian Process Regression"
   ]
  },
  {
   "cell_type": "code",
   "execution_count": 64,
   "metadata": {},
   "outputs": [
    {
     "name": "stdout",
     "output_type": "stream",
     "text": [
      "Normalized reduced_param:\n",
      "[[0.         0.         0.19689475 0.79949149 0.29192199]\n",
      " [0.3992952  0.15245312 0.202062   0.78286609 0.40439142]\n",
      " [0.77374681 0.2747367  0.04267881 0.         1.        ]\n",
      " [1.         0.46698106 1.         0.26727049 0.44117791]\n",
      " [0.56286905 0.82988676 0.         0.13204305 0.        ]\n",
      " [0.62775484 1.         0.26552963 1.         0.78391901]]\n"
     ]
    }
   ],
   "source": [
    "paraMin = np.min(reduced_param, axis=0)\n",
    "paraMax = np.max(reduced_param, axis=0)\n",
    "\n",
    "\n",
    "# Perform min-max normalization\n",
    "norm_reduced_param = (reduced_param - paraMin) / (paraMax - paraMin)\n",
    "\n",
    "# Display normalized matrix\n",
    "print(\"Normalized reduced_param:\")\n",
    "print(norm_reduced_param)"
   ]
  },
  {
   "cell_type": "code",
   "execution_count": 65,
   "metadata": {},
   "outputs": [],
   "source": [
    "out=np.dot(unfold(model_y_test,1),np.linalg.pinv(unfold(model_u,1)))"
   ]
  },
  {
   "cell_type": "code",
   "execution_count": 66,
   "metadata": {},
   "outputs": [
    {
     "data": {
      "text/plain": [
       "array([[ 0.40983033,  0.14050326, -0.04049571,  0.03289291,  0.0349277 ]])"
      ]
     },
     "execution_count": 66,
     "metadata": {},
     "output_type": "execute_result"
    }
   ],
   "source": [
    "out"
   ]
  },
  {
   "cell_type": "code",
   "execution_count": 67,
   "metadata": {},
   "outputs": [],
   "source": [
    "norm_teparam=(out-paraMin)/(paraMax-paraMin)"
   ]
  },
  {
   "cell_type": "code",
   "execution_count": 68,
   "metadata": {},
   "outputs": [
    {
     "data": {
      "text/plain": [
       "array([[0.65652157, 0.57932305, 0.25369811, 0.52475558, 0.51633239]])"
      ]
     },
     "execution_count": 68,
     "metadata": {},
     "output_type": "execute_result"
    }
   ],
   "source": [
    "norm_teparam"
   ]
  },
  {
   "cell_type": "code",
   "execution_count": 69,
   "metadata": {},
   "outputs": [
    {
     "data": {
      "text/plain": [
       "array([[-1.5],\n",
       "       [-1. ],\n",
       "       [-0.5],\n",
       "       [ 0. ],\n",
       "       [ 1. ],\n",
       "       [ 1.5]])"
      ]
     },
     "execution_count": 69,
     "metadata": {},
     "output_type": "execute_result"
    }
   ],
   "source": [
    "model_x_train"
   ]
  },
  {
   "cell_type": "code",
   "execution_count": 70,
   "metadata": {},
   "outputs": [],
   "source": [
    "xs=np.linspace(min(model_x_train),max(model_x_train),100)"
   ]
  },
  {
   "cell_type": "code",
   "execution_count": 71,
   "metadata": {},
   "outputs": [],
   "source": [
    "from sklearn.gaussian_process import GaussianProcessRegressor\n",
    "from sklearn.gaussian_process.kernels import RBF, ConstantKernel as C"
   ]
  },
  {
   "cell_type": "code",
   "execution_count": 72,
   "metadata": {},
   "outputs": [],
   "source": [
    "kernel = C(1.0, (1e-4, 1e1)) * RBF(1.0, (1e-4, 1e1))\n",
    "models = []"
   ]
  },
  {
   "cell_type": "code",
   "execution_count": 73,
   "metadata": {},
   "outputs": [
    {
     "data": {
      "text/plain": [
       "array([[-1.5],\n",
       "       [-1. ],\n",
       "       [-0.5],\n",
       "       [ 0. ],\n",
       "       [ 1. ],\n",
       "       [ 1.5]])"
      ]
     },
     "execution_count": 73,
     "metadata": {},
     "output_type": "execute_result"
    }
   ],
   "source": [
    "model_x_train"
   ]
  },
  {
   "cell_type": "code",
   "execution_count": 74,
   "metadata": {},
   "outputs": [
    {
     "data": {
      "text/plain": [
       "array([[0.        , 0.        , 0.19689475, 0.79949149, 0.29192199],\n",
       "       [0.3992952 , 0.15245312, 0.202062  , 0.78286609, 0.40439142],\n",
       "       [0.77374681, 0.2747367 , 0.04267881, 0.        , 1.        ],\n",
       "       [1.        , 0.46698106, 1.        , 0.26727049, 0.44117791],\n",
       "       [0.56286905, 0.82988676, 0.        , 0.13204305, 0.        ],\n",
       "       [0.62775484, 1.        , 0.26552963, 1.        , 0.78391901]])"
      ]
     },
     "execution_count": 74,
     "metadata": {},
     "output_type": "execute_result"
    }
   ],
   "source": [
    "norm_reduced_param"
   ]
  },
  {
   "cell_type": "code",
   "execution_count": 75,
   "metadata": {},
   "outputs": [],
   "source": [
    "for i in range(norm_reduced_param.shape[1]):\n",
    "    gpr = GaussianProcessRegressor(kernel=kernel, n_restarts_optimizer=10)\n",
    "    gpr.fit(model_x_train,norm_reduced_param[:,i])\n",
    "    models.append(gpr)"
   ]
  },
  {
   "cell_type": "code",
   "execution_count": 76,
   "metadata": {},
   "outputs": [],
   "source": [
    "model_teparam_pred=[]\n",
    "model_teparam_sd=[]\n",
    "model_tepram_int=[]"
   ]
  },
  {
   "cell_type": "code",
   "execution_count": 77,
   "metadata": {},
   "outputs": [
    {
     "name": "stdout",
     "output_type": "stream",
     "text": [
      "[0.83372028]\n",
      "[0.66826405]\n",
      "[0.11470848]\n",
      "[0.0743224]\n",
      "[-0.17461497]\n"
     ]
    }
   ],
   "source": [
    "for i in range(norm_reduced_param.shape[1]):\n",
    "    Y_pred,sigma=models[i].predict(model_x_test,return_std=True)\n",
    "    print(Y_pred)\n",
    "    model_teparam_pred.append(Y_pred)\n",
    "    model_teparam_sd.append(sigma)"
   ]
  },
  {
   "cell_type": "code",
   "execution_count": 78,
   "metadata": {},
   "outputs": [],
   "source": [
    "model_teparam_pred_plotting=model_teparam_pred"
   ]
  },
  {
   "cell_type": "code",
   "execution_count": 79,
   "metadata": {},
   "outputs": [],
   "source": [
    "model_teparam_pred_plotting=np.array(model_teparam_pred_plotting)"
   ]
  },
  {
   "cell_type": "code",
   "execution_count": 80,
   "metadata": {},
   "outputs": [],
   "source": [
    "model_teparam_sd_plotting=model_teparam_sd"
   ]
  },
  {
   "cell_type": "code",
   "execution_count": 81,
   "metadata": {},
   "outputs": [],
   "source": [
    "model_teparam_sd_plotting=np.array(model_teparam_sd_plotting)"
   ]
  },
  {
   "cell_type": "code",
   "execution_count": 82,
   "metadata": {},
   "outputs": [
    {
     "data": {
      "text/plain": [
       "array([[0.03772219],\n",
       "       [0.0104414 ],\n",
       "       [0.43206899],\n",
       "       [0.4548882 ],\n",
       "       [0.38246353]])"
      ]
     },
     "execution_count": 82,
     "metadata": {},
     "output_type": "execute_result"
    }
   ],
   "source": [
    "model_teparam_sd_plotting"
   ]
  },
  {
   "cell_type": "code",
   "execution_count": 83,
   "metadata": {},
   "outputs": [],
   "source": [
    "lower_interval=[]\n",
    "upper_interval=[]"
   ]
  },
  {
   "cell_type": "code",
   "execution_count": 84,
   "metadata": {},
   "outputs": [],
   "source": [
    "for i in range(len(model_teparam_pred)):\n",
    "    lower_interval_val=model_teparam_pred_plotting[i]-1.96*model_teparam_sd_plotting[i]\n",
    "    lower_interval.append(lower_interval_val)\n",
    "    upper_interval_val=model_teparam_pred_plotting[i]+1.96*model_teparam_sd_plotting[i]\n",
    "    upper_interval.append(upper_interval_val)"
   ]
  },
  {
   "cell_type": "code",
   "execution_count": 85,
   "metadata": {},
   "outputs": [],
   "source": [
    "for i in range(len(model_teparam_pred)):\n",
    "    model_teparam_pred[i]=model_teparam_pred[i]*(paraMax[i]-paraMin[i])+paraMin[i]\n",
    "    model_teparam_sd[i]=model_teparam_sd[i]*(paraMax[i]-paraMin[i])+paraMin[i]"
   ]
  },
  {
   "cell_type": "code",
   "execution_count": 86,
   "metadata": {},
   "outputs": [],
   "source": [
    "model_teparam_sd=np.array(model_teparam_sd)"
   ]
  },
  {
   "cell_type": "code",
   "execution_count": 87,
   "metadata": {},
   "outputs": [],
   "source": [
    "model_teparam_pred=np.array(model_teparam_pred)"
   ]
  },
  {
   "cell_type": "code",
   "execution_count": 88,
   "metadata": {},
   "outputs": [
    {
     "data": {
      "text/plain": [
       "(5, 1)"
      ]
     },
     "execution_count": 88,
     "metadata": {},
     "output_type": "execute_result"
    }
   ],
   "source": [
    "model_teparam_sd.shape"
   ]
  },
  {
   "cell_type": "code",
   "execution_count": 89,
   "metadata": {},
   "outputs": [
    {
     "data": {
      "text/plain": [
       "(5, 1)"
      ]
     },
     "execution_count": 89,
     "metadata": {},
     "output_type": "execute_result"
    }
   ],
   "source": [
    "model_teparam_pred.shape"
   ]
  },
  {
   "cell_type": "code",
   "execution_count": 90,
   "metadata": {},
   "outputs": [],
   "source": [
    "model_teparam_pred=np.transpose(model_teparam_pred)"
   ]
  },
  {
   "cell_type": "markdown",
   "metadata": {},
   "source": [
    "For all intermittent points"
   ]
  },
  {
   "cell_type": "code",
   "execution_count": 91,
   "metadata": {},
   "outputs": [
    {
     "data": {
      "text/plain": [
       "array([-1.5])"
      ]
     },
     "execution_count": 91,
     "metadata": {},
     "output_type": "execute_result"
    }
   ],
   "source": [
    "xs[0]"
   ]
  },
  {
   "cell_type": "code",
   "execution_count": 92,
   "metadata": {},
   "outputs": [],
   "source": [
    "all_test_pred=[]\n",
    "all_test_sd=[]"
   ]
  },
  {
   "cell_type": "code",
   "execution_count": 93,
   "metadata": {},
   "outputs": [],
   "source": [
    "for i in range(norm_reduced_param.shape[1]):\n",
    "    Y_pred,sigma=models[i].predict(xs,return_std=True)\n",
    "    all_test_pred.append(Y_pred)\n",
    "    all_test_sd.append(sigma)"
   ]
  },
  {
   "cell_type": "code",
   "execution_count": 94,
   "metadata": {},
   "outputs": [],
   "source": [
    "all_test_pred=np.array(all_test_pred)\n",
    "all_test_sd=np.array(all_test_sd)"
   ]
  },
  {
   "cell_type": "code",
   "execution_count": 95,
   "metadata": {},
   "outputs": [
    {
     "data": {
      "text/plain": [
       "(5, 100)"
      ]
     },
     "execution_count": 95,
     "metadata": {},
     "output_type": "execute_result"
    }
   ],
   "source": [
    "all_test_pred.shape"
   ]
  },
  {
   "cell_type": "code",
   "execution_count": 96,
   "metadata": {},
   "outputs": [],
   "source": [
    "all_test_pred=np.transpose(all_test_pred)"
   ]
  },
  {
   "cell_type": "code",
   "execution_count": 97,
   "metadata": {},
   "outputs": [
    {
     "data": {
      "text/plain": [
       "(100, 5)"
      ]
     },
     "execution_count": 97,
     "metadata": {},
     "output_type": "execute_result"
    }
   ],
   "source": [
    "all_test_pred.shape"
   ]
  },
  {
   "cell_type": "code",
   "execution_count": 98,
   "metadata": {},
   "outputs": [],
   "source": [
    "lower_limit_all=[]\n",
    "upper_limit_all=[]"
   ]
  },
  {
   "cell_type": "code",
   "execution_count": 99,
   "metadata": {},
   "outputs": [],
   "source": [
    "all_test_sd_tr=np.transpose(all_test_sd)"
   ]
  },
  {
   "cell_type": "code",
   "execution_count": 100,
   "metadata": {},
   "outputs": [
    {
     "name": "stdout",
     "output_type": "stream",
     "text": [
      "0\n",
      "1\n",
      "2\n",
      "3\n",
      "4\n",
      "5\n",
      "6\n",
      "7\n",
      "8\n",
      "9\n",
      "10\n",
      "11\n",
      "12\n",
      "13\n",
      "14\n",
      "15\n",
      "16\n",
      "17\n",
      "18\n",
      "19\n",
      "20\n",
      "21\n",
      "22\n",
      "23\n",
      "24\n",
      "25\n",
      "26\n",
      "27\n",
      "28\n",
      "29\n",
      "30\n",
      "31\n",
      "32\n",
      "33\n",
      "34\n",
      "35\n",
      "36\n",
      "37\n",
      "38\n",
      "39\n",
      "40\n",
      "41\n",
      "42\n",
      "43\n",
      "44\n",
      "45\n",
      "46\n",
      "47\n",
      "48\n",
      "49\n",
      "50\n",
      "51\n",
      "52\n",
      "53\n",
      "54\n",
      "55\n",
      "56\n",
      "57\n",
      "58\n",
      "59\n",
      "60\n",
      "61\n",
      "62\n",
      "63\n",
      "64\n",
      "65\n",
      "66\n",
      "67\n",
      "68\n",
      "69\n",
      "70\n",
      "71\n",
      "72\n",
      "73\n",
      "74\n",
      "75\n",
      "76\n",
      "77\n",
      "78\n",
      "79\n",
      "80\n",
      "81\n",
      "82\n",
      "83\n",
      "84\n",
      "85\n",
      "86\n",
      "87\n",
      "88\n",
      "89\n",
      "90\n",
      "91\n",
      "92\n",
      "93\n",
      "94\n",
      "95\n",
      "96\n",
      "97\n",
      "98\n",
      "99\n"
     ]
    }
   ],
   "source": [
    "for i in range(0,all_test_pred.shape[0]):\n",
    "    print(i)\n",
    "    lower_interval_val=all_test_pred[i]-1.96*all_test_sd_tr[i]\n",
    "    lower_limit_all.append(lower_interval_val)\n",
    "    upper_interval_val=all_test_pred[i]+1.96*all_test_sd_tr[i]\n",
    "    upper_limit_all.append(upper_interval_val)"
   ]
  },
  {
   "cell_type": "code",
   "execution_count": 101,
   "metadata": {},
   "outputs": [],
   "source": [
    "lower_limit_all_arr=np.array(lower_limit_all)\n",
    "upper_limit_all_arr=np.array(upper_limit_all)"
   ]
  },
  {
   "cell_type": "code",
   "execution_count": 102,
   "metadata": {},
   "outputs": [
    {
     "data": {
      "text/plain": [
       "(100, 5)"
      ]
     },
     "execution_count": 102,
     "metadata": {},
     "output_type": "execute_result"
    }
   ],
   "source": [
    "lower_limit_all_arr.shape"
   ]
  },
  {
   "cell_type": "code",
   "execution_count": 103,
   "metadata": {},
   "outputs": [
    {
     "data": {
      "text/plain": [
       "100"
      ]
     },
     "execution_count": 103,
     "metadata": {},
     "output_type": "execute_result"
    }
   ],
   "source": [
    "len(lower_limit_all)"
   ]
  },
  {
   "cell_type": "code",
   "execution_count": 104,
   "metadata": {},
   "outputs": [
    {
     "data": {
      "text/plain": [
       "100"
      ]
     },
     "execution_count": 104,
     "metadata": {},
     "output_type": "execute_result"
    }
   ],
   "source": [
    "len(upper_limit_all)"
   ]
  },
  {
   "cell_type": "code",
   "execution_count": 105,
   "metadata": {},
   "outputs": [
    {
     "data": {
      "text/plain": [
       "5"
      ]
     },
     "execution_count": 105,
     "metadata": {},
     "output_type": "execute_result"
    }
   ],
   "source": [
    "len(models)"
   ]
  },
  {
   "cell_type": "code",
   "execution_count": 106,
   "metadata": {},
   "outputs": [
    {
     "data": {
      "text/plain": [
       "(100, 1)"
      ]
     },
     "execution_count": 106,
     "metadata": {},
     "output_type": "execute_result"
    }
   ],
   "source": [
    "xs.shape"
   ]
  },
  {
   "cell_type": "code",
   "execution_count": 107,
   "metadata": {},
   "outputs": [
    {
     "data": {
      "text/plain": [
       "array([[-1.5],\n",
       "       [-1. ],\n",
       "       [-0.5],\n",
       "       [ 0. ],\n",
       "       [ 1. ],\n",
       "       [ 1.5]])"
      ]
     },
     "execution_count": 107,
     "metadata": {},
     "output_type": "execute_result"
    }
   ],
   "source": [
    "model_x_train"
   ]
  },
  {
   "cell_type": "code",
   "execution_count": 108,
   "metadata": {},
   "outputs": [
    {
     "data": {
      "text/plain": [
       "(100, 5)"
      ]
     },
     "execution_count": 108,
     "metadata": {},
     "output_type": "execute_result"
    }
   ],
   "source": [
    "all_test_pred.shape"
   ]
  },
  {
   "cell_type": "code",
   "execution_count": 109,
   "metadata": {},
   "outputs": [
    {
     "data": {
      "text/plain": [
       "100"
      ]
     },
     "execution_count": 109,
     "metadata": {},
     "output_type": "execute_result"
    }
   ],
   "source": [
    "len(xs)"
   ]
  },
  {
   "cell_type": "code",
   "execution_count": 110,
   "metadata": {},
   "outputs": [
    {
     "data": {
      "text/plain": [
       "array([ 0.83372028,  0.66826405,  0.11470848,  0.0743224 , -0.17461497])"
      ]
     },
     "execution_count": 110,
     "metadata": {},
     "output_type": "execute_result"
    }
   ],
   "source": [
    "model_teparam_pred_plotting.ravel()"
   ]
  },
  {
   "cell_type": "code",
   "execution_count": 111,
   "metadata": {},
   "outputs": [
    {
     "data": {
      "text/plain": [
       "(5, 1)"
      ]
     },
     "execution_count": 111,
     "metadata": {},
     "output_type": "execute_result"
    }
   ],
   "source": [
    "model_teparam_sd_plotting.shape"
   ]
  },
  {
   "cell_type": "code",
   "execution_count": null,
   "metadata": {},
   "outputs": [],
   "source": []
  },
  {
   "cell_type": "code",
   "execution_count": 147,
   "metadata": {},
   "outputs": [
    {
     "data": {
      "text/plain": [
       "array([[0.5]])"
      ]
     },
     "execution_count": 147,
     "metadata": {},
     "output_type": "execute_result"
    }
   ],
   "source": [
    "model_x_test"
   ]
  },
  {
   "cell_type": "code",
   "execution_count": 148,
   "metadata": {},
   "outputs": [
    {
     "data": {
      "text/plain": [
       "array([[-1.5],\n",
       "       [-1. ],\n",
       "       [-0.5],\n",
       "       [ 0. ],\n",
       "       [ 1. ],\n",
       "       [ 1.5]])"
      ]
     },
     "execution_count": 148,
     "metadata": {},
     "output_type": "execute_result"
    }
   ],
   "source": [
    "model_x_train"
   ]
  },
  {
   "cell_type": "code",
   "execution_count": 146,
   "metadata": {},
   "outputs": [
    {
     "data": {
      "text/plain": [
       "(6, 5)"
      ]
     },
     "execution_count": 146,
     "metadata": {},
     "output_type": "execute_result"
    }
   ],
   "source": [
    "norm_reduced_param.shape"
   ]
  },
  {
   "cell_type": "code",
   "execution_count": 114,
   "metadata": {},
   "outputs": [
    {
     "name": "stdout",
     "output_type": "stream",
     "text": [
      "0\n",
      "1\n",
      "2\n",
      "3\n",
      "4\n"
     ]
    },
    {
     "data": {
      "text/plain": [
       "<Figure size 1000x600 with 0 Axes>"
      ]
     },
     "metadata": {},
     "output_type": "display_data"
    },
    {
     "data": {
      "image/png": "[encoded data removed]",
      "text/plain": [
       "<Figure size 1000x600 with 1 Axes>"
      ]
     },
     "metadata": {},
     "output_type": "display_data"
    },
    {
     "data": {
      "image/png": "[encoded data removed]",
      "text/plain": [
       "<Figure size 1000x600 with 1 Axes>"
      ]
     },
     "metadata": {},
     "output_type": "display_data"
    },
    {
     "data": {
      "image/png": "[encoded data removed]",
      "text/plain": [
       "<Figure size 1000x600 with 1 Axes>"
      ]
     },
     "metadata": {},
     "output_type": "display_data"
    },
    {
     "data": {
      "image/png": "[encoded data removed]",
      "text/plain": [
       "<Figure size 1000x600 with 1 Axes>"
      ]
     },
     "metadata": {},
     "output_type": "display_data"
    },
    {
     "data": {
      "image/png": "[encoded data removed]",
      "text/plain": [
       "<Figure size 1000x600 with 1 Axes>"
      ]
     },
     "metadata": {},
     "output_type": "display_data"
    }
   ],
   "source": [
    "plt.figure(figsize=(10,6))\n",
    "for i in range(len(models)):\n",
    "    print(i)\n",
    "    plt.figure(figsize=(10,6))\n",
    "    plt.plot(xs,all_test_pred[:,i],label='predictions')\n",
    "    plt.fill_between(xs.ravel(),lower_limit_all_arr[:,i],upper_limit_all_arr[:,i],alpha=0.2,color='blue',label='Prediction interval')\n",
    "    plt.plot(model_x_train.ravel(),norm_reduced_param[:,i],'ro',markersize=10,label='Training point')\n",
    "    plt.plot(model_x_test.ravel(),model_teparam_pred_plotting.ravel()[i],'go',markersize=8,label='Testing point point prediction')\n",
    "    plt.xlabel('Input conditions')\n",
    "    plt.ylabel('Parameter {}'.format(i))"
   ]
  },
  {
   "cell_type": "code",
   "execution_count": 115,
   "metadata": {},
   "outputs": [],
   "source": [
    "from tensorly.tenalg import mode_dot"
   ]
  },
  {
   "cell_type": "code",
   "execution_count": 116,
   "metadata": {},
   "outputs": [],
   "source": [
    "a=mode_dot(model_u,model_teparam_pred,mode=1)"
   ]
  },
  {
   "cell_type": "code",
   "execution_count": 117,
   "metadata": {},
   "outputs": [
    {
     "data": {
      "text/plain": [
       "(2, 1, 5001)"
      ]
     },
     "execution_count": 117,
     "metadata": {},
     "output_type": "execute_result"
    }
   ],
   "source": [
    "a.shape"
   ]
  },
  {
   "cell_type": "code",
   "execution_count": 118,
   "metadata": {},
   "outputs": [
    {
     "data": {
      "text/plain": [
       "(2, 1, 5001)"
      ]
     },
     "execution_count": 118,
     "metadata": {},
     "output_type": "execute_result"
    }
   ],
   "source": [
    "a.shape"
   ]
  },
  {
   "cell_type": "code",
   "execution_count": 119,
   "metadata": {},
   "outputs": [
    {
     "data": {
      "text/plain": [
       "(1, 5001)"
      ]
     },
     "execution_count": 119,
     "metadata": {},
     "output_type": "execute_result"
    }
   ],
   "source": [
    "a[0,:,:].shape"
   ]
  },
  {
   "cell_type": "code",
   "execution_count": 120,
   "metadata": {},
   "outputs": [
    {
     "data": {
      "text/plain": [
       "(2, 1, 5001)"
      ]
     },
     "execution_count": 120,
     "metadata": {},
     "output_type": "execute_result"
    }
   ],
   "source": [
    "model_y_test.shape"
   ]
  },
  {
   "cell_type": "code",
   "execution_count": 121,
   "metadata": {},
   "outputs": [
    {
     "data": {
      "text/plain": [
       "array([ 50.  ,  50.01,  50.02, ...,  99.98,  99.99, 100.  ])"
      ]
     },
     "execution_count": 121,
     "metadata": {},
     "output_type": "execute_result"
    }
   ],
   "source": [
    "model_tindex"
   ]
  },
  {
   "cell_type": "code",
   "execution_count": 122,
   "metadata": {},
   "outputs": [],
   "source": [
    "predictions_speed=a[0,:,:]\n",
    "true_values_speed=model_y_test[0,:,:]"
   ]
  },
  {
   "cell_type": "code",
   "execution_count": 123,
   "metadata": {},
   "outputs": [],
   "source": [
    "predictions_weight=a[1,:,:]\n",
    "true_values_weight=model_y_test[1,:,:]"
   ]
  },
  {
   "cell_type": "code",
   "execution_count": 124,
   "metadata": {},
   "outputs": [],
   "source": [
    "combined_df_speed=pd.DataFrame({'Predicted speed':predictions_speed.reshape(-1),\n",
    "                            'True speed':true_values_speed.reshape(-1)})"
   ]
  },
  {
   "cell_type": "code",
   "execution_count": 125,
   "metadata": {},
   "outputs": [],
   "source": [
    "combined_df_weight=pd.DataFrame({'Predicted weight':predictions_weight.reshape(-1),\n",
    "                            'True weight':true_values_weight.reshape(-1)})"
   ]
  },
  {
   "cell_type": "code",
   "execution_count": 126,
   "metadata": {},
   "outputs": [],
   "source": [
    "for_time=Data_working[0]\n",
    "for_time=for_time.T"
   ]
  },
  {
   "cell_type": "code",
   "execution_count": 127,
   "metadata": {},
   "outputs": [],
   "source": [
    "combined_df_speed['Time step']=for_time['Time']\n",
    "combined_df_weight['Time step']=for_time['Time']"
   ]
  },
  {
   "cell_type": "code",
   "execution_count": 128,
   "metadata": {},
   "outputs": [
    {
     "data": {
      "text/html": [
       "<div>\n",
       "<style scoped>\n",
       "    .dataframe tbody tr th:only-of-type {\n",
       "        vertical-align: middle;\n",
       "    }\n",
       "\n",
       "    .dataframe tbody tr th {\n",
       "        vertical-align: top;\n",
       "    }\n",
       "\n",
       "    .dataframe thead th {\n",
       "        text-align: right;\n",
       "    }\n",
       "</style>\n",
       "<table border=\"1\" class=\"dataframe\">\n",
       "  <thead>\n",
       "    <tr style=\"text-align: right;\">\n",
       "      <th></th>\n",
       "      <th>Predicted weight</th>\n",
       "      <th>True weight</th>\n",
       "      <th>Time step</th>\n",
       "    </tr>\n",
       "  </thead>\n",
       "  <tbody>\n",
       "    <tr>\n",
       "      <th>0</th>\n",
       "      <td>506.911272</td>\n",
       "      <td>609.106481</td>\n",
       "      <td>50.00</td>\n",
       "    </tr>\n",
       "    <tr>\n",
       "      <th>1</th>\n",
       "      <td>481.996502</td>\n",
       "      <td>598.019256</td>\n",
       "      <td>50.01</td>\n",
       "    </tr>\n",
       "    <tr>\n",
       "      <th>2</th>\n",
       "      <td>467.340909</td>\n",
       "      <td>584.337209</td>\n",
       "      <td>50.02</td>\n",
       "    </tr>\n",
       "    <tr>\n",
       "      <th>3</th>\n",
       "      <td>443.313932</td>\n",
       "      <td>574.964787</td>\n",
       "      <td>50.03</td>\n",
       "    </tr>\n",
       "    <tr>\n",
       "      <th>4</th>\n",
       "      <td>444.974203</td>\n",
       "      <td>568.066747</td>\n",
       "      <td>50.04</td>\n",
       "    </tr>\n",
       "    <tr>\n",
       "      <th>...</th>\n",
       "      <td>...</td>\n",
       "      <td>...</td>\n",
       "      <td>...</td>\n",
       "    </tr>\n",
       "    <tr>\n",
       "      <th>4996</th>\n",
       "      <td>426.842919</td>\n",
       "      <td>607.598611</td>\n",
       "      <td>99.96</td>\n",
       "    </tr>\n",
       "    <tr>\n",
       "      <th>4997</th>\n",
       "      <td>424.544622</td>\n",
       "      <td>621.656117</td>\n",
       "      <td>99.97</td>\n",
       "    </tr>\n",
       "    <tr>\n",
       "      <th>4998</th>\n",
       "      <td>434.817829</td>\n",
       "      <td>617.259729</td>\n",
       "      <td>99.98</td>\n",
       "    </tr>\n",
       "    <tr>\n",
       "      <th>4999</th>\n",
       "      <td>471.885369</td>\n",
       "      <td>617.125965</td>\n",
       "      <td>99.99</td>\n",
       "    </tr>\n",
       "    <tr>\n",
       "      <th>5000</th>\n",
       "      <td>502.289147</td>\n",
       "      <td>607.556170</td>\n",
       "      <td>100.00</td>\n",
       "    </tr>\n",
       "  </tbody>\n",
       "</table>\n",
       "<p>5001 rows × 3 columns</p>\n",
       "</div>"
      ],
      "text/plain": [
       "      Predicted weight  True weight  Time step\n",
       "0           506.911272   609.106481      50.00\n",
       "1           481.996502   598.019256      50.01\n",
       "2           467.340909   584.337209      50.02\n",
       "3           443.313932   574.964787      50.03\n",
       "4           444.974203   568.066747      50.04\n",
       "...                ...          ...        ...\n",
       "4996        426.842919   607.598611      99.96\n",
       "4997        424.544622   621.656117      99.97\n",
       "4998        434.817829   617.259729      99.98\n",
       "4999        471.885369   617.125965      99.99\n",
       "5000        502.289147   607.556170     100.00\n",
       "\n",
       "[5001 rows x 3 columns]"
      ]
     },
     "execution_count": 128,
     "metadata": {},
     "output_type": "execute_result"
    }
   ],
   "source": [
    "combined_df_weight"
   ]
  },
  {
   "cell_type": "code",
   "execution_count": 129,
   "metadata": {},
   "outputs": [],
   "source": [
    "new_df=pd.DataFrame({'Predicted speed':combined_df_speed['Predicted speed'],\n",
    "                     'Predicted weight':combined_df_weight['Predicted weight']})"
   ]
  },
  {
   "cell_type": "code",
   "execution_count": 130,
   "metadata": {},
   "outputs": [],
   "source": [
    "plotting_speed=combined_df_speed.iloc[100:160]\n",
    "plotting_weight=combined_df_weight.iloc[100:160]"
   ]
  },
  {
   "cell_type": "code",
   "execution_count": 131,
   "metadata": {},
   "outputs": [
    {
     "data": {
      "text/plain": [
       "<matplotlib.legend.Legend at 0x23f02781e10>"
      ]
     },
     "execution_count": 131,
     "metadata": {},
     "output_type": "execute_result"
    },
    {
     "data": {
      "image/png": "[encoded data removed]",
      "text/plain": [
       "<Figure size 1000x600 with 1 Axes>"
      ]
     },
     "metadata": {},
     "output_type": "display_data"
    }
   ],
   "source": [
    "plt.figure(figsize=(10,6))\n",
    "plt.plot(plotting_speed['Time step'],plotting_speed['True speed'],marker='s',linestyle='--',label='True speed')\n",
    "plt.plot(plotting_speed['Time step'],plotting_speed['Predicted speed'],marker='o',linestyle='-',label='Predicted speed')\n",
    "plt.xlabel('Time')\n",
    "plt.ylabel('Speed of bottom')\n",
    "y_ticks=plt.yticks()[0]\n",
    "new_y_ticks=list(y_ticks)+[170]\n",
    "plt.yticks(new_y_ticks)\n",
    "plt.legend()\n"
   ]
  },
  {
   "cell_type": "code",
   "execution_count": 132,
   "metadata": {},
   "outputs": [
    {
     "data": {
      "text/plain": [
       "<matplotlib.legend.Legend at 0x23f04fb9390>"
      ]
     },
     "execution_count": 132,
     "metadata": {},
     "output_type": "execute_result"
    },
    {
     "data": {
      "image/png": "[encoded data removed]",
      "text/plain": [
       "<Figure size 1000x600 with 1 Axes>"
      ]
     },
     "metadata": {},
     "output_type": "display_data"
    }
   ],
   "source": [
    "plt.figure(figsize=(10,6))\n",
    "plt.plot(plotting_weight['Time step'],plotting_weight['True weight'],marker='s',linestyle='--',label='True weight on bit')\n",
    "plt.plot(plotting_weight['Time step'],plotting_weight['Predicted weight'],marker='o',linestyle='-',label='Predicted weight on bit')\n",
    "plt.xlabel('Time')\n",
    "plt.ylabel('Weight on bit')\n",
    "plt.legend()"
   ]
  },
  {
   "cell_type": "code",
   "execution_count": 133,
   "metadata": {},
   "outputs": [],
   "source": [
    "observations_df=pd.read_excel('RPM 120N.xlsx')"
   ]
  },
  {
   "cell_type": "code",
   "execution_count": 134,
   "metadata": {},
   "outputs": [
    {
     "data": {
      "text/html": [
       "<div>\n",
       "<style scoped>\n",
       "    .dataframe tbody tr th:only-of-type {\n",
       "        vertical-align: middle;\n",
       "    }\n",
       "\n",
       "    .dataframe tbody tr th {\n",
       "        vertical-align: top;\n",
       "    }\n",
       "\n",
       "    .dataframe thead th {\n",
       "        text-align: right;\n",
       "    }\n",
       "</style>\n",
       "<table border=\"1\" class=\"dataframe\">\n",
       "  <thead>\n",
       "    <tr style=\"text-align: right;\">\n",
       "      <th></th>\n",
       "      <th>Time</th>\n",
       "      <th>Speed of bottom</th>\n",
       "      <th>Weight on bit</th>\n",
       "    </tr>\n",
       "  </thead>\n",
       "  <tbody>\n",
       "    <tr>\n",
       "      <th>0</th>\n",
       "      <td>50.00</td>\n",
       "      <td>85.652952</td>\n",
       "      <td>601.101111</td>\n",
       "    </tr>\n",
       "    <tr>\n",
       "      <th>1</th>\n",
       "      <td>50.01</td>\n",
       "      <td>80.918172</td>\n",
       "      <td>590.644050</td>\n",
       "    </tr>\n",
       "    <tr>\n",
       "      <th>2</th>\n",
       "      <td>50.02</td>\n",
       "      <td>79.196646</td>\n",
       "      <td>577.597733</td>\n",
       "    </tr>\n",
       "    <tr>\n",
       "      <th>3</th>\n",
       "      <td>50.03</td>\n",
       "      <td>80.213533</td>\n",
       "      <td>568.865769</td>\n",
       "    </tr>\n",
       "    <tr>\n",
       "      <th>4</th>\n",
       "      <td>50.04</td>\n",
       "      <td>83.536917</td>\n",
       "      <td>562.612075</td>\n",
       "    </tr>\n",
       "    <tr>\n",
       "      <th>...</th>\n",
       "      <td>...</td>\n",
       "      <td>...</td>\n",
       "      <td>...</td>\n",
       "    </tr>\n",
       "    <tr>\n",
       "      <th>4996</th>\n",
       "      <td>99.96</td>\n",
       "      <td>126.929681</td>\n",
       "      <td>622.433160</td>\n",
       "    </tr>\n",
       "    <tr>\n",
       "      <th>4997</th>\n",
       "      <td>99.97</td>\n",
       "      <td>115.121499</td>\n",
       "      <td>637.373572</td>\n",
       "    </tr>\n",
       "    <tr>\n",
       "      <th>4998</th>\n",
       "      <td>99.98</td>\n",
       "      <td>103.815596</td>\n",
       "      <td>633.855441</td>\n",
       "    </tr>\n",
       "    <tr>\n",
       "      <th>4999</th>\n",
       "      <td>99.99</td>\n",
       "      <td>93.967329</td>\n",
       "      <td>634.594392</td>\n",
       "    </tr>\n",
       "    <tr>\n",
       "      <th>5000</th>\n",
       "      <td>100.00</td>\n",
       "      <td>86.438341</td>\n",
       "      <td>625.890877</td>\n",
       "    </tr>\n",
       "  </tbody>\n",
       "</table>\n",
       "<p>5001 rows × 3 columns</p>\n",
       "</div>"
      ],
      "text/plain": [
       "        Time  Speed of bottom  Weight on bit\n",
       "0      50.00        85.652952     601.101111\n",
       "1      50.01        80.918172     590.644050\n",
       "2      50.02        79.196646     577.597733\n",
       "3      50.03        80.213533     568.865769\n",
       "4      50.04        83.536917     562.612075\n",
       "...      ...              ...            ...\n",
       "4996   99.96       126.929681     622.433160\n",
       "4997   99.97       115.121499     637.373572\n",
       "4998   99.98       103.815596     633.855441\n",
       "4999   99.99        93.967329     634.594392\n",
       "5000  100.00        86.438341     625.890877\n",
       "\n",
       "[5001 rows x 3 columns]"
      ]
     },
     "execution_count": 134,
     "metadata": {},
     "output_type": "execute_result"
    }
   ],
   "source": [
    "observations_df"
   ]
  },
  {
   "cell_type": "code",
   "execution_count": 135,
   "metadata": {},
   "outputs": [],
   "source": [
    "observation_arr=observations_df.values"
   ]
  },
  {
   "cell_type": "code",
   "execution_count": 136,
   "metadata": {},
   "outputs": [],
   "source": [
    "obs1=observation_arr[:,1:3]"
   ]
  },
  {
   "cell_type": "code",
   "execution_count": 137,
   "metadata": {},
   "outputs": [
    {
     "data": {
      "text/plain": [
       "array([[ 85.65295156, 601.10111056],\n",
       "       [ 80.91817198, 590.64405022],\n",
       "       [ 79.19664567, 577.5977333 ],\n",
       "       ...,\n",
       "       [103.81559562, 633.8554408 ],\n",
       "       [ 93.96732859, 634.59439242],\n",
       "       [ 86.4383412 , 625.89087686]])"
      ]
     },
     "execution_count": 137,
     "metadata": {},
     "output_type": "execute_result"
    }
   ],
   "source": [
    "obs1"
   ]
  },
  {
   "cell_type": "code",
   "execution_count": 138,
   "metadata": {},
   "outputs": [],
   "source": [
    "from scipy.stats import norm\n",
    "import tensorly as tl\n",
    "from tensorly.tenalg import mode_dot\n"
   ]
  },
  {
   "cell_type": "code",
   "execution_count": 139,
   "metadata": {},
   "outputs": [],
   "source": [
    "import numpy as np\n",
    "from scipy.stats import norm\n",
    "\n",
    "def p_xk_given_obs(xk, obs, sigma):\n",
    "    \"\"\"\n",
    "    Calculate the probability of each sensor.\n",
    "    \"\"\"\n",
    "    # Broadcasting obs to match the shape of xk for element-wise subtraction\n",
    "    p = norm.pdf(xk - obs, 0, sigma)\n",
    "    \n",
    "    # Check if any values in p are NaN or Inf\n",
    "\n",
    "    # Initialize the output with the first column of p\n",
    "    out = p[:, 0]\n",
    "    \n",
    "    # Iterate over the remaining columns of p and multiply probabilities\n",
    "    for i in range(1, p.shape[1]):\n",
    "        out *= p[:, i]\n",
    "    \n",
    "    # Reshape out to be a column vector\n",
    "    out = out.reshape(-1, 1)\n",
    "    \n",
    "    return out"
   ]
  },
  {
   "cell_type": "code",
   "execution_count": 140,
   "metadata": {},
   "outputs": [],
   "source": [
    "def resample(xk, wk, resampling_strategy='multinomial_resampling'):\n",
    "    \"\"\"\n",
    "    Resampling process to avoid particle degeneracy.\n",
    "    \"\"\"\n",
    "    Ns = len(wk)\n",
    "    if resampling_strategy == 'multinomial_resampling':\n",
    "        indices = np.random.choice(np.arange(Ns), size=Ns, replace=True, p=wk)\n",
    "    elif resampling_strategy == 'systematic_resampling':\n",
    "        edges = np.cumsum(wk)\n",
    "        edges = np.insert(edges, 0, 0)  # Insert 0 at the beginning\n",
    "        edges[-1] = 1\n",
    "        u1 = np.random.rand() / Ns\n",
    "        sampling_points = np.arange(u1, 1, 1/Ns)\n",
    "        k = np.digitize(sampling_points, edges, right=True)\n",
    "    else:\n",
    "        raise ValueError(\"Resampling strategy not implemented\")\n",
    "    xk_resampled = xk[indices, :]\n",
    "    wk_resampled = np.ones(Ns) / Ns\n",
    "    return xk_resampled, wk_resampled"
   ]
  },
  {
   "cell_type": "code",
   "execution_count": 141,
   "metadata": {},
   "outputs": [
    {
     "data": {
      "text/plain": [
       "array([[ 0.39940522],\n",
       "       [-0.50830999],\n",
       "       [ 0.17803663],\n",
       "       [-0.04247986],\n",
       "       [-0.13300069]])"
      ]
     },
     "execution_count": 141,
     "metadata": {},
     "output_type": "execute_result"
    }
   ],
   "source": [
    "model_teparam_sd"
   ]
  },
  {
   "cell_type": "code",
   "execution_count": 142,
   "metadata": {},
   "outputs": [],
   "source": [
    "def ROPF_fun(Model, pf):\n",
    "    # Generate initial particles and weights\n",
    "    pf['iniparticle'] = np.tile(Model['teparam'], (pf['Ns'], 1)) + np.random.randn(pf['Ns'], Model['teparam'].shape[1]) * np.sqrt(np.abs(Model['teparamsd'])).reshape(1, -1) * 2\n",
    "    pf['iniwk'] = np.ones(pf['Ns']) / pf['Ns']\n",
    "    pf['b'] = 0.2  # User-defined parameter for variance\n",
    "\n",
    "    for k in range(len(Model['t'])):  # Adjusted for Python tensor notation\n",
    "        if k == 0:\n",
    "            wkm1 = pf['iniwk']  # Initial weights\n",
    "            paramm1 = pf['iniparticle']\n",
    "        else:\n",
    "            wkm1 = pf['w'][:, k - 1]\n",
    "            paramm1 = pf['particles'][:, :, k - 1]\n",
    "\n",
    "        # Reshape paramm1 for tensor operations\n",
    "        temp = paramm1  # Unfold along the second dimension (equivalent to the first mode in MATLAB)\n",
    "\n",
    "\n",
    "        # Propagate particles using tensor product\n",
    "        xkm1 = mode_dot(Model['u'], temp, mode=1)  # Apply tensor product along the necessary dimensions\n",
    "        # print(f'xkm1 shape: {xkm1.shape}')  \n",
    "        \n",
    "        # Update weight\n",
    "        obs = pf['obs'][k, :]\n",
    "        tempxk = xkm1[:, :, k]  # Adjusted for Python tensor notation\n",
    "        tempxk=np.transpose(tempxk)\n",
    "        m=p_xk_given_obs(tempxk, obs, pf['sigma_s'])\n",
    "\n",
    "\n",
    "        wk = wkm1*m\n",
    "          # Should print (200,)\n",
    "        # print(f'weight shape: {wk.shape}')  # Should print (200,)\n",
    "        wk /= np.sum(wk)  # Normalize weight vector\n",
    "\n",
    "        # Calculate effective sample size\n",
    "        Neff = 1 / np.sum(wk ** 2)\n",
    "        resample_percentage = 0.50\n",
    "        Nt = resample_percentage * pf['Ns']\n",
    "\n",
    "        # Resample if necessary\n",
    "        if Neff < Nt:\n",
    "            print('Resampling ...')\n",
    "            param, pf['w'][:, k] = resample(paramm1.T, wk, resampling_strategy='multinomial_resampling')\n",
    "            param = param.T\n",
    "        else:\n",
    "            param = paramm1\n",
    "            pf['w'][:, k] = wkm1\n",
    "\n",
    "        # Avoid sample impoverishment\n",
    "        eff_Np = np.sum(np.sum((tempxk > obs - 3 * pf['sigma_s']) & (tempxk < obs + 3 * pf['sigma_s']), axis=1) > 1)\n",
    "        if eff_Np < 40:\n",
    "            pf['particles'][:, :, k] = param + np.random.randn(pf['Ns'], Model['teparam'].shape[1]) * 0.2\n",
    "        else:\n",
    "            pf['particles'][:, :, k] = param\n",
    "\n",
    "        # Obtain state prediction\n",
    "        # print('Param shape')\n",
    "        # print(param.shape)\n",
    "        temp = param\n",
    "        a=mode_dot(Model['u'], temp, mode=1)\n",
    "        # print(a.shape)\n",
    "        b=np.mean(a,axis=1)\n",
    "        Model['yt_prek'][:, k, :] = b\n",
    "\n",
    "    return Model, pf\n"
   ]
  },
  {
   "cell_type": "code",
   "execution_count": 143,
   "metadata": {},
   "outputs": [
    {
     "data": {
      "text/plain": [
       "(1, 5)"
      ]
     },
     "execution_count": 143,
     "metadata": {},
     "output_type": "execute_result"
    }
   ],
   "source": [
    "model_teparam_pred.shape"
   ]
  },
  {
   "cell_type": "code",
   "execution_count": 144,
   "metadata": {},
   "outputs": [
    {
     "data": {
      "text/plain": [
       "5001"
      ]
     },
     "execution_count": 144,
     "metadata": {},
     "output_type": "execute_result"
    }
   ],
   "source": [
    "len(model_tindex)"
   ]
  },
  {
   "cell_type": "code",
   "execution_count": 145,
   "metadata": {},
   "outputs": [
    {
     "name": "stderr",
     "output_type": "stream",
     "text": [
      "C:\\Users\\asus\\AppData\\Local\\Temp\\ipykernel_1288\\3075088732.py:33: RuntimeWarning: invalid value encountered in divide\n",
      "  wk /= np.sum(wk)  # Normalize weight vector\n"
     ]
    },
    {
     "ename": "KeyboardInterrupt",
     "evalue": "",
     "output_type": "error",
     "traceback": [
      "\u001b[1;31m---------------------------------------------------------------------------\u001b[0m",
      "\u001b[1;31mKeyboardInterrupt\u001b[0m                         Traceback (most recent call last)",
      "Cell \u001b[1;32mIn[145], line 17\u001b[0m\n\u001b[0;32m      1\u001b[0m Model \u001b[38;5;241m=\u001b[39m {\n\u001b[0;32m      2\u001b[0m         \u001b[38;5;124m'\u001b[39m\u001b[38;5;124mt\u001b[39m\u001b[38;5;124m'\u001b[39m: np\u001b[38;5;241m.\u001b[39marange(obs1\u001b[38;5;241m.\u001b[39mshape[\u001b[38;5;241m0\u001b[39m]),\n\u001b[0;32m      3\u001b[0m         \u001b[38;5;124m'\u001b[39m\u001b[38;5;124mteparam\u001b[39m\u001b[38;5;124m'\u001b[39m: model_teparam_pred,  \u001b[38;5;66;03m# Adjusted for Python tensor notation\u001b[39;00m\n\u001b[1;32m   (...)\u001b[0m\n\u001b[0;32m      6\u001b[0m         \u001b[38;5;124m'\u001b[39m\u001b[38;5;124myt_prek\u001b[39m\u001b[38;5;124m'\u001b[39m: np\u001b[38;5;241m.\u001b[39mzeros((\u001b[38;5;241m2\u001b[39m,\u001b[38;5;28mlen\u001b[39m(model_tindex),\u001b[38;5;28mlen\u001b[39m(model_tindex)))  \u001b[38;5;66;03m# Adjusted for Python tensor notation\u001b[39;00m\n\u001b[0;32m      7\u001b[0m     }\n\u001b[0;32m      9\u001b[0m pf \u001b[38;5;241m=\u001b[39m {\n\u001b[0;32m     10\u001b[0m         \u001b[38;5;124m'\u001b[39m\u001b[38;5;124mobs\u001b[39m\u001b[38;5;124m'\u001b[39m: obs1,\n\u001b[0;32m     11\u001b[0m         \u001b[38;5;124m'\u001b[39m\u001b[38;5;124mNs\u001b[39m\u001b[38;5;124m'\u001b[39m: \u001b[38;5;241m200\u001b[39m,  \u001b[38;5;66;03m# Number of particles\u001b[39;00m\n\u001b[1;32m   (...)\u001b[0m\n\u001b[0;32m     14\u001b[0m         \u001b[38;5;124m'\u001b[39m\u001b[38;5;124msigma_s\u001b[39m\u001b[38;5;124m'\u001b[39m: \u001b[38;5;241m0.2\u001b[39m  \u001b[38;5;66;03m# Sensor noise level\u001b[39;00m\n\u001b[0;32m     15\u001b[0m     }\n\u001b[1;32m---> 17\u001b[0m Model, pf \u001b[38;5;241m=\u001b[39m \u001b[43mROPF_fun\u001b[49m\u001b[43m(\u001b[49m\u001b[43mModel\u001b[49m\u001b[43m,\u001b[49m\u001b[43m \u001b[49m\u001b[43mpf\u001b[49m\u001b[43m)\u001b[49m\n",
      "Cell \u001b[1;32mIn[142], line 20\u001b[0m, in \u001b[0;36mROPF_fun\u001b[1;34m(Model, pf)\u001b[0m\n\u001b[0;32m     16\u001b[0m temp \u001b[38;5;241m=\u001b[39m paramm1  \u001b[38;5;66;03m# Unfold along the second dimension (equivalent to the first mode in MATLAB)\u001b[39;00m\n\u001b[0;32m     19\u001b[0m \u001b[38;5;66;03m# Propagate particles using tensor product\u001b[39;00m\n\u001b[1;32m---> 20\u001b[0m xkm1 \u001b[38;5;241m=\u001b[39m \u001b[43mmode_dot\u001b[49m\u001b[43m(\u001b[49m\u001b[43mModel\u001b[49m\u001b[43m[\u001b[49m\u001b[38;5;124;43m'\u001b[39;49m\u001b[38;5;124;43mu\u001b[39;49m\u001b[38;5;124;43m'\u001b[39;49m\u001b[43m]\u001b[49m\u001b[43m,\u001b[49m\u001b[43m \u001b[49m\u001b[43mtemp\u001b[49m\u001b[43m,\u001b[49m\u001b[43m \u001b[49m\u001b[43mmode\u001b[49m\u001b[38;5;241;43m=\u001b[39;49m\u001b[38;5;241;43m1\u001b[39;49m\u001b[43m)\u001b[49m  \u001b[38;5;66;03m# Apply tensor product along the necessary dimensions\u001b[39;00m\n\u001b[0;32m     21\u001b[0m \u001b[38;5;66;03m# print(f'xkm1 shape: {xkm1.shape}')  \u001b[39;00m\n\u001b[0;32m     22\u001b[0m \n\u001b[0;32m     23\u001b[0m \u001b[38;5;66;03m# Update weight\u001b[39;00m\n\u001b[0;32m     24\u001b[0m obs \u001b[38;5;241m=\u001b[39m pf[\u001b[38;5;124m'\u001b[39m\u001b[38;5;124mobs\u001b[39m\u001b[38;5;124m'\u001b[39m][k, :]\n",
      "File \u001b[1;32mc:\\Users\\asus\\anaconda3\\envs\\MLAI\\Lib\\site-packages\\tensorly\\backend\\__init__.py:206\u001b[0m, in \u001b[0;36mBackendManager.dispatch_backend_method.<locals>.wrapped_backend_method\u001b[1;34m(*args, **kwargs)\u001b[0m\n\u001b[0;32m    202\u001b[0m \u001b[38;5;28;01mdef\u001b[39;00m \u001b[38;5;21mwrapped_backend_method\u001b[39m(\u001b[38;5;241m*\u001b[39margs, \u001b[38;5;241m*\u001b[39m\u001b[38;5;241m*\u001b[39mkwargs):\n\u001b[0;32m    203\u001b[0m \u001b[38;5;250m    \u001b[39m\u001b[38;5;124;03m\"\"\"A dynamically dispatched method\u001b[39;00m\n\u001b[0;32m    204\u001b[0m \n\u001b[0;32m    205\u001b[0m \u001b[38;5;124;03m    Returns the queried method from the currently set backend\"\"\"\u001b[39;00m\n\u001b[1;32m--> 206\u001b[0m     \u001b[38;5;28;01mreturn\u001b[39;00m \u001b[38;5;28;43mgetattr\u001b[39;49m\u001b[43m(\u001b[49m\n\u001b[0;32m    207\u001b[0m \u001b[43m        \u001b[49m\u001b[38;5;28;43mcls\u001b[39;49m\u001b[38;5;241;43m.\u001b[39;49m\u001b[43m_THREAD_LOCAL_DATA\u001b[49m\u001b[38;5;241;43m.\u001b[39;49m\u001b[38;5;18;43m__dict__\u001b[39;49m\u001b[38;5;241;43m.\u001b[39;49m\u001b[43mget\u001b[49m\u001b[43m(\u001b[49m\u001b[38;5;124;43m\"\u001b[39;49m\u001b[38;5;124;43mbackend\u001b[39;49m\u001b[38;5;124;43m\"\u001b[39;49m\u001b[43m,\u001b[49m\u001b[43m \u001b[49m\u001b[38;5;28;43mcls\u001b[39;49m\u001b[38;5;241;43m.\u001b[39;49m\u001b[43m_backend\u001b[49m\u001b[43m)\u001b[49m\u001b[43m,\u001b[49m\u001b[43m \u001b[49m\u001b[43mname\u001b[49m\n\u001b[0;32m    208\u001b[0m \u001b[43m    \u001b[49m\u001b[43m)\u001b[49m\u001b[43m(\u001b[49m\u001b[38;5;241;43m*\u001b[39;49m\u001b[43margs\u001b[49m\u001b[43m,\u001b[49m\u001b[43m \u001b[49m\u001b[38;5;241;43m*\u001b[39;49m\u001b[38;5;241;43m*\u001b[39;49m\u001b[43mkwargs\u001b[49m\u001b[43m)\u001b[49m\n",
      "File \u001b[1;32mc:\\Users\\asus\\anaconda3\\envs\\MLAI\\Lib\\site-packages\\tensorly\\tenalg\\core_tenalg\\n_mode_product.py:73\u001b[0m, in \u001b[0;36mmode_dot\u001b[1;34m(tensor, matrix_or_vector, mode, transpose)\u001b[0m\n\u001b[0;32m     67\u001b[0m \u001b[38;5;28;01melse\u001b[39;00m:\n\u001b[0;32m     68\u001b[0m     \u001b[38;5;28;01mraise\u001b[39;00m \u001b[38;5;167;01mValueError\u001b[39;00m(\n\u001b[0;32m     69\u001b[0m         \u001b[38;5;124m\"\u001b[39m\u001b[38;5;124mCan only take n_mode_product with a vector or a matrix.\u001b[39m\u001b[38;5;124m\"\u001b[39m\n\u001b[0;32m     70\u001b[0m         \u001b[38;5;124mf\u001b[39m\u001b[38;5;124m\"\u001b[39m\u001b[38;5;124mProvided array of dimension \u001b[39m\u001b[38;5;132;01m{\u001b[39;00mT\u001b[38;5;241m.\u001b[39mndim(matrix_or_vector)\u001b[38;5;132;01m}\u001b[39;00m\u001b[38;5;124m not in [1, 2].\u001b[39m\u001b[38;5;124m\"\u001b[39m\n\u001b[0;32m     71\u001b[0m     )\n\u001b[1;32m---> 73\u001b[0m res \u001b[38;5;241m=\u001b[39m \u001b[43mT\u001b[49m\u001b[38;5;241;43m.\u001b[39;49m\u001b[43mdot\u001b[49m\u001b[43m(\u001b[49m\u001b[43mmatrix_or_vector\u001b[49m\u001b[43m,\u001b[49m\u001b[43m \u001b[49m\u001b[43munfold\u001b[49m\u001b[43m(\u001b[49m\u001b[43mtensor\u001b[49m\u001b[43m,\u001b[49m\u001b[43m \u001b[49m\u001b[43mmode\u001b[49m\u001b[43m)\u001b[49m\u001b[43m)\u001b[49m\n\u001b[0;32m     75\u001b[0m \u001b[38;5;28;01mif\u001b[39;00m vec:  \u001b[38;5;66;03m# We contracted with a vector, leading to a vector\u001b[39;00m\n\u001b[0;32m     76\u001b[0m     \u001b[38;5;28;01mreturn\u001b[39;00m vec_to_tensor(res, shape\u001b[38;5;241m=\u001b[39mnew_shape)\n",
      "File \u001b[1;32mc:\\Users\\asus\\anaconda3\\envs\\MLAI\\Lib\\site-packages\\tensorly\\backend\\__init__.py:206\u001b[0m, in \u001b[0;36mBackendManager.dispatch_backend_method.<locals>.wrapped_backend_method\u001b[1;34m(*args, **kwargs)\u001b[0m\n\u001b[0;32m    202\u001b[0m \u001b[38;5;28;01mdef\u001b[39;00m \u001b[38;5;21mwrapped_backend_method\u001b[39m(\u001b[38;5;241m*\u001b[39margs, \u001b[38;5;241m*\u001b[39m\u001b[38;5;241m*\u001b[39mkwargs):\n\u001b[0;32m    203\u001b[0m \u001b[38;5;250m    \u001b[39m\u001b[38;5;124;03m\"\"\"A dynamically dispatched method\u001b[39;00m\n\u001b[0;32m    204\u001b[0m \n\u001b[0;32m    205\u001b[0m \u001b[38;5;124;03m    Returns the queried method from the currently set backend\"\"\"\u001b[39;00m\n\u001b[1;32m--> 206\u001b[0m     \u001b[38;5;28;01mreturn\u001b[39;00m \u001b[38;5;28;43mgetattr\u001b[39;49m\u001b[43m(\u001b[49m\n\u001b[0;32m    207\u001b[0m \u001b[43m        \u001b[49m\u001b[38;5;28;43mcls\u001b[39;49m\u001b[38;5;241;43m.\u001b[39;49m\u001b[43m_THREAD_LOCAL_DATA\u001b[49m\u001b[38;5;241;43m.\u001b[39;49m\u001b[38;5;18;43m__dict__\u001b[39;49m\u001b[38;5;241;43m.\u001b[39;49m\u001b[43mget\u001b[49m\u001b[43m(\u001b[49m\u001b[38;5;124;43m\"\u001b[39;49m\u001b[38;5;124;43mbackend\u001b[39;49m\u001b[38;5;124;43m\"\u001b[39;49m\u001b[43m,\u001b[49m\u001b[43m \u001b[49m\u001b[38;5;28;43mcls\u001b[39;49m\u001b[38;5;241;43m.\u001b[39;49m\u001b[43m_backend\u001b[49m\u001b[43m)\u001b[49m\u001b[43m,\u001b[49m\u001b[43m \u001b[49m\u001b[43mname\u001b[49m\n\u001b[0;32m    208\u001b[0m \u001b[43m    \u001b[49m\u001b[43m)\u001b[49m\u001b[43m(\u001b[49m\u001b[38;5;241;43m*\u001b[39;49m\u001b[43margs\u001b[49m\u001b[43m,\u001b[49m\u001b[43m \u001b[49m\u001b[38;5;241;43m*\u001b[39;49m\u001b[38;5;241;43m*\u001b[39;49m\u001b[43mkwargs\u001b[49m\u001b[43m)\u001b[49m\n",
      "\u001b[1;31mKeyboardInterrupt\u001b[0m: "
     ]
    }
   ],
   "source": [
    "Model = {\n",
    "        't': np.arange(obs1.shape[0]),\n",
    "        'teparam': model_teparam_pred,  # Adjusted for Python tensor notation\n",
    "        'teparamsd': model_teparam_sd,  # Dummy teparamsd\n",
    "        'u': model_u,  # Adjusted for Python tensor notation\n",
    "        'yt_prek': np.zeros((2,len(model_tindex),len(model_tindex)))  # Adjusted for Python tensor notation\n",
    "    }\n",
    "\n",
    "pf = {\n",
    "        'obs': obs1,\n",
    "        'Ns': 200,  # Number of particles\n",
    "        'w': np.zeros((200, obs1.shape[0])),  # Particle weights\n",
    "        'particles': np.zeros((200,model_teparam_pred.shape[1] , obs1.shape[0])),  # Particles\n",
    "        'sigma_s': 0.2  # Sensor noise level\n",
    "    }\n",
    "\n",
    "Model, pf = ROPF_fun(Model, pf)\n",
    "\n"
   ]
  },
  {
   "cell_type": "code",
   "execution_count": 144,
   "metadata": {},
   "outputs": [
    {
     "data": {
      "text/plain": [
       "5001"
      ]
     },
     "execution_count": 144,
     "metadata": {},
     "output_type": "execute_result"
    }
   ],
   "source": [
    "len(Model['t'])"
   ]
  },
  {
   "cell_type": "code",
   "execution_count": 145,
   "metadata": {},
   "outputs": [
    {
     "data": {
      "text/html": [
       "<div>\n",
       "<style scoped>\n",
       "    .dataframe tbody tr th:only-of-type {\n",
       "        vertical-align: middle;\n",
       "    }\n",
       "\n",
       "    .dataframe tbody tr th {\n",
       "        vertical-align: top;\n",
       "    }\n",
       "\n",
       "    .dataframe thead th {\n",
       "        text-align: right;\n",
       "    }\n",
       "</style>\n",
       "<table border=\"1\" class=\"dataframe\">\n",
       "  <thead>\n",
       "    <tr style=\"text-align: right;\">\n",
       "      <th></th>\n",
       "      <th>Predicted speed</th>\n",
       "      <th>Predicted weight</th>\n",
       "    </tr>\n",
       "  </thead>\n",
       "  <tbody>\n",
       "    <tr>\n",
       "      <th>0</th>\n",
       "      <td>107.323171</td>\n",
       "      <td>488.459034</td>\n",
       "    </tr>\n",
       "    <tr>\n",
       "      <th>1</th>\n",
       "      <td>115.217739</td>\n",
       "      <td>463.233875</td>\n",
       "    </tr>\n",
       "    <tr>\n",
       "      <th>2</th>\n",
       "      <td>123.884791</td>\n",
       "      <td>447.006273</td>\n",
       "    </tr>\n",
       "    <tr>\n",
       "      <th>3</th>\n",
       "      <td>132.648711</td>\n",
       "      <td>426.052524</td>\n",
       "    </tr>\n",
       "    <tr>\n",
       "      <th>4</th>\n",
       "      <td>140.791616</td>\n",
       "      <td>427.995498</td>\n",
       "    </tr>\n",
       "    <tr>\n",
       "      <th>...</th>\n",
       "      <td>...</td>\n",
       "      <td>...</td>\n",
       "    </tr>\n",
       "    <tr>\n",
       "      <th>4996</th>\n",
       "      <td>137.328627</td>\n",
       "      <td>429.678926</td>\n",
       "    </tr>\n",
       "    <tr>\n",
       "      <th>4997</th>\n",
       "      <td>144.186614</td>\n",
       "      <td>431.252111</td>\n",
       "    </tr>\n",
       "    <tr>\n",
       "      <th>4998</th>\n",
       "      <td>149.217465</td>\n",
       "      <td>443.422985</td>\n",
       "    </tr>\n",
       "    <tr>\n",
       "      <th>4999</th>\n",
       "      <td>151.968095</td>\n",
       "      <td>481.270484</td>\n",
       "    </tr>\n",
       "    <tr>\n",
       "      <th>5000</th>\n",
       "      <td>152.173077</td>\n",
       "      <td>512.318482</td>\n",
       "    </tr>\n",
       "  </tbody>\n",
       "</table>\n",
       "<p>5001 rows × 2 columns</p>\n",
       "</div>"
      ],
      "text/plain": [
       "      Predicted speed  Predicted weight\n",
       "0          107.323171        488.459034\n",
       "1          115.217739        463.233875\n",
       "2          123.884791        447.006273\n",
       "3          132.648711        426.052524\n",
       "4          140.791616        427.995498\n",
       "...               ...               ...\n",
       "4996       137.328627        429.678926\n",
       "4997       144.186614        431.252111\n",
       "4998       149.217465        443.422985\n",
       "4999       151.968095        481.270484\n",
       "5000       152.173077        512.318482\n",
       "\n",
       "[5001 rows x 2 columns]"
      ]
     },
     "execution_count": 145,
     "metadata": {},
     "output_type": "execute_result"
    }
   ],
   "source": [
    "new_df"
   ]
  },
  {
   "cell_type": "code",
   "execution_count": 146,
   "metadata": {},
   "outputs": [],
   "source": [
    "output_arr=new_df.values"
   ]
  },
  {
   "cell_type": "code",
   "execution_count": 147,
   "metadata": {},
   "outputs": [
    {
     "data": {
      "text/plain": [
       "(5001, 2)"
      ]
     },
     "execution_count": 147,
     "metadata": {},
     "output_type": "execute_result"
    }
   ],
   "source": [
    "output_arr.shape"
   ]
  },
  {
   "cell_type": "code",
   "execution_count": 148,
   "metadata": {},
   "outputs": [
    {
     "data": {
      "text/plain": [
       "(2, 5001, 5001)"
      ]
     },
     "execution_count": 148,
     "metadata": {},
     "output_type": "execute_result"
    }
   ],
   "source": [
    "Model['yt_prek'].shape"
   ]
  },
  {
   "cell_type": "code",
   "execution_count": 149,
   "metadata": {},
   "outputs": [],
   "source": [
    "    # Smooth the prediction with moving average (not fully implemented here)\n",
    "finalPred = np.zeros((len(Model['t']), 2))"
   ]
  },
  {
   "cell_type": "code",
   "execution_count": 150,
   "metadata": {},
   "outputs": [],
   "source": [
    "finalPred[:10, :] = output_arr[:10,:]\n"
   ]
  },
  {
   "cell_type": "code",
   "execution_count": 151,
   "metadata": {},
   "outputs": [],
   "source": [
    "winSize = 1\n",
    "sum1 = 0\n",
    "sum2 = 0\n",
    "\n",
    "for i in range(1, winSize):\n",
    "    sum1 += Model['yt_prek'][0, i, winSize]\n",
    "    sum1 += Model['yt_prek'][1, i, winSize ]\n",
    "\n",
    "for i in range(10, len(Model['t'])):\n",
    "    sum1 += Model['yt_prek'][0, i-1, i]\n",
    "    sum2 += Model['yt_prek'][1, i-1, i]\n",
    "    finalPred[i, 0] = sum1 / winSize\n",
    "    finalPred[i, 1] = sum2 / winSize\n",
    "    sum1 -= Model['yt_prek'][0, i-winSize, i]\n",
    "    sum2 -= Model['yt_prek'][1, i-winSize, i]"
   ]
  },
  {
   "cell_type": "code",
   "execution_count": 152,
   "metadata": {},
   "outputs": [
    {
     "data": {
      "text/plain": [
       "(5001, 2)"
      ]
     },
     "execution_count": 152,
     "metadata": {},
     "output_type": "execute_result"
    }
   ],
   "source": [
    "finalPred.shape"
   ]
  },
  {
   "cell_type": "code",
   "execution_count": 153,
   "metadata": {},
   "outputs": [
    {
     "data": {
      "text/plain": [
       "array([[107.32317099, 488.45903388],\n",
       "       [115.21773897, 463.23387531],\n",
       "       [123.88479075, 447.00627334],\n",
       "       ...,\n",
       "       [-44.73175369, 373.17493614],\n",
       "       [-66.90603607, 448.79270111],\n",
       "       [-93.2177507 , 547.76649297]])"
      ]
     },
     "execution_count": 153,
     "metadata": {},
     "output_type": "execute_result"
    }
   ],
   "source": [
    "finalPred"
   ]
  },
  {
   "cell_type": "code",
   "execution_count": 154,
   "metadata": {},
   "outputs": [
    {
     "data": {
      "text/plain": [
       "(5001,)"
      ]
     },
     "execution_count": 154,
     "metadata": {},
     "output_type": "execute_result"
    }
   ],
   "source": [
    "Model['t'].shape"
   ]
  },
  {
   "cell_type": "code",
   "execution_count": 155,
   "metadata": {},
   "outputs": [
    {
     "data": {
      "text/plain": [
       "(2, 1, 5001)"
      ]
     },
     "execution_count": 155,
     "metadata": {},
     "output_type": "execute_result"
    }
   ],
   "source": [
    "model_y_test.shape"
   ]
  },
  {
   "cell_type": "code",
   "execution_count": 156,
   "metadata": {},
   "outputs": [
    {
     "data": {
      "image/png": "[encoded data removed]",
      "text/plain": [
       "<Figure size 1000x500 with 1 Axes>"
      ]
     },
     "metadata": {},
     "output_type": "display_data"
    }
   ],
   "source": [
    "fig1, ax1 = plt.subplots(figsize=(10, 5))  # Set the figure size as needed\n",
    "\n",
    "# Plot on the first figure\n",
    "ax1.plot(for_time['Time'][100:160], finalPred[100:160, 0], 'b', linewidth=1, label='pred',marker='s')\n",
    "ax1.plot(for_time['Time'][100:160], obs1[100:160, 0], 'y-', linewidth=1, label='experiment',marker='o')\n",
    "ax1.plot(for_time['Time'][100:160], model_y_test[0, :, 100:160].flatten(), 'r-', linewidth=1, label='simulation',marker='x')\n",
    "ax1.legend()\n",
    "ax1.set_title('Speed of bottom')\n",
    "y_ticks=ax1.get_yticks()\n",
    "new_y_ticks=list(y_ticks)+[170]\n",
    "ax1.set_yticks(new_y_ticks)\n",
    "# Set the y-limit to avoid stretching beyond the desired range\n",
    "ax1.set_ylim(min(y_ticks), 170)\n",
    "ax1.legend()\n",
    "\n",
    "# Show the first figure\n",
    "plt.show()"
   ]
  },
  {
   "cell_type": "code",
   "execution_count": 157,
   "metadata": {},
   "outputs": [
    {
     "data": {
      "image/png": "[encoded data removed]",
      "text/plain": [
       "<Figure size 1000x500 with 1 Axes>"
      ]
     },
     "metadata": {},
     "output_type": "display_data"
    }
   ],
   "source": [
    "fig2, ax2 = plt.subplots(figsize=(10, 5))  # Set the figure size as needed\n",
    "\n",
    "# Plot on the second figure\n",
    "ax2.plot(for_time['Time'][100:160], finalPred[100:160, 1], 'b', linewidth=1, label='pred',marker='s')\n",
    "ax2.plot(for_time['Time'][100:160], obs1[100:160, 1], 'y-', linewidth=1, label='experiment',marker='o')\n",
    "ax2.plot(for_time['Time'][100:160], model_y_test[1, :, 100:160].flatten(), 'r-', linewidth=1, label='simulation',marker='x')\n",
    "ax2.legend()\n",
    "ax2.set_title('Weight on bit')\n",
    "\n",
    "# Show the second figure\n",
    "plt.show()"
   ]
  },
  {
   "cell_type": "code",
   "execution_count": null,
   "metadata": {},
   "outputs": [],
   "source": []
  }
 ],
 "metadata": {
  "kernelspec": {
   "display_name": "MLAI",
   "language": "python",
   "name": "python3"
  },
  "language_info": {
   "codemirror_mode": {
    "name": "ipython",
    "version": 3
   },
   "file_extension": ".py",
   "mimetype": "text/x-python",
   "name": "python",
   "nbconvert_exporter": "python",
   "pygments_lexer": "ipython3",
   "version": "3.11.5"
  }
 },
 "nbformat": 4,
 "nbformat_minor": 2
}
